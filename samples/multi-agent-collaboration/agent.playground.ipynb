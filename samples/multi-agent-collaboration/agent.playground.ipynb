{
 "cells": [
  {
   "cell_type": "code",
   "execution_count": 1,
   "metadata": {},
   "outputs": [],
   "source": [
    "import boto3\n",
    "from botocore.exceptions import ClientError\n",
    "import time\n",
    "\n",
    "class BedrockAgentService:\n",
    "    \"\"\"\n",
    "    A service class to interact with AWS Bedrock Agents.\n",
    "    \n",
    "    This class provides functionality to invoke Bedrock agents and handle their responses,\n",
    "    including parameter parsing and control flow management.\n",
    "    \"\"\"\n",
    "    \n",
    "    def __init__(self, agent_id: str, alias_id: str = \"TSTALIASID\", session_id = None, client = None) -> None:\n",
    "        \"\"\"\n",
    "        Initialize the BedrockAgentService.\n",
    "        \n",
    "        Args:\n",
    "            agent_id (str): The ID of the Bedrock agent to interact with\n",
    "            alias_id (str, optional): The alias ID for the agent. Defaults to \"TSTALIASID\"\n",
    "            client: The boto3 client for Bedrock runtime. If None, creates a new client\n",
    "        \"\"\"\n",
    "        self.agents_runtime_client = (\n",
    "            client if client else boto3.client(\"bedrock-agent-runtime\")\n",
    "        )\n",
    "        self.agent_id = agent_id\n",
    "        self.alias_id = alias_id\n",
    "        self.session_id = session_id or str(int(time.time()))\n",
    "\n",
    "    def set_session_id(self, session_id: str) -> None:\n",
    "        \"\"\"\n",
    "        Set the session ID for the agent.\n",
    "\n",
    "        Args:\n",
    "            session_id (str): The session ID to be used for the agent interaction\n",
    "        \"\"\"\n",
    "        self.session_id = session_id\n",
    "\n",
    "    def parse_parameters(self, parameters: list) -> dict:\n",
    "        \"\"\"\n",
    "        Parse parameters from the agent response into a dictionary format.\n",
    "        \n",
    "        Args:\n",
    "            parameters (list): List of parameter dictionaries containing name and value pairs\n",
    "            \n",
    "        Returns:\n",
    "            dict: Dictionary mapping parameter names to their values\n",
    "        \"\"\"\n",
    "        return {param[\"name\"]: param[\"value\"] for param in parameters}\n",
    "\n",
    "    def return_control(self, completion: dict) -> dict:\n",
    "        \"\"\"\n",
    "        Process the completion response and extract control flow information.\n",
    "        \n",
    "        Args:\n",
    "            completion (dict): The completion response from the agent containing control information\n",
    "            \n",
    "        Returns:\n",
    "            dict: Processed control information including invocation details and parameters\n",
    "        \"\"\"\n",
    "        rc = completion.get(\"returnControl\", {})\n",
    "        invocationId = rc.get(\"invocationId\", \"\")\n",
    "        invocationInputs = rc.get(\"invocationInputs\",[])\n",
    "\n",
    "        return_dict = { \"invocationId\": invocationId}\n",
    "        \n",
    "        if len(invocationInputs):\n",
    "            functionInvocationInput = invocationInputs[0].get(\"functionInvocationInput\", {})\n",
    "            actionGroup = functionInvocationInput.get(\"actionGroup\", {})\n",
    "            agentId = functionInvocationInput.get(\"agentId\", None)\n",
    "            actionInvocationType = functionInvocationInput.get(\"actionInvocationType\", \"\")\n",
    "            functionName = functionInvocationInput.get(\"function\", \"\")\n",
    "            parameters = functionInvocationInput.get(\"parameters\", {})\n",
    "            parsed_parameters = self.parse_parameters(parameters)\n",
    "            return_dict.update(\n",
    "                {\n",
    "                    \"actionGroup\": actionGroup,\n",
    "                    \"agentId\": agentId,\n",
    "                    \"functionName\": functionName,\n",
    "                    \"parameters\": parsed_parameters,\n",
    "                    \"actionInvocationType\": actionInvocationType,\n",
    "                }\n",
    "            )\n",
    "        return return_dict\n",
    "\n",
    "    def return_control_invocation_results(\n",
    "        self, \n",
    "        invocation_id: str, \n",
    "        action_group: str, \n",
    "        function_name: str, \n",
    "        invocation_result: str,\n",
    "        agent_id : str  = None,\n",
    "        session_id: str = None, \n",
    "    ) -> str:\n",
    "        \"\"\"\n",
    "        Send the results of a function invocation back to the agent.\n",
    "        \n",
    "        Args:\n",
    "            session_id (str): The current session identifier\n",
    "            invocation_id (str): The ID of the invocation being responded to\n",
    "            action_group (str): The action group that was invoked\n",
    "            function_name (str): The name of the function that was called\n",
    "            invocation_result (str): The result of the function invocation\n",
    "            \n",
    "        Returns:\n",
    "            str: The completion response from the agent after processing the results\n",
    "        \"\"\"\n",
    "        try:\n",
    "            response = self.agents_runtime_client.invoke_agent(\n",
    "                agentId=self.agent_id,\n",
    "                agentAliasId=self.alias_id,\n",
    "                sessionId=session_id or self.session_id,\n",
    "                sessionState={\n",
    "                    \"invocationId\": invocation_id,\n",
    "                    \"returnControlInvocationResults\": [\n",
    "                        {\n",
    "                            \"functionResult\": {\n",
    "                                \"actionGroup\": action_group,\n",
    "                                \"agentId\": agent_id or self.agent_id,\n",
    "                                \"function\": function_name,\n",
    "                                \"responseBody\": {\"TEXT\": {\"body\": invocation_result}},\n",
    "                            }\n",
    "                        }\n",
    "                    ],\n",
    "                },\n",
    "            )\n",
    "\n",
    "            completion = \"\"\n",
    "\n",
    "            for event in response.get(\"completion\"):\n",
    "                if event.get(\"returnControl\"):\n",
    "                    return self.return_control(event)\n",
    "                chunk = event[\"chunk\"]\n",
    "                completion = completion + chunk[\"bytes\"].decode()\n",
    "\n",
    "        except ClientError as e:\n",
    "            print(f\"Couldn't invoke agent. {e}\")\n",
    "\n",
    "        return completion\n",
    "\n",
    "    # from https://docs.aws.amazon.com/code-library/latest/ug/python_3_bedrock-agent-runtime_code_examples.html\n",
    "    def invoke_agent(self, prompt: str, session_id: str = None) -> dict:\n",
    "        \"\"\"\n",
    "        Invoke the Bedrock agent with a prompt and handle the response.\n",
    "        \n",
    "        Args:\n",
    "            session_id (str): The session identifier for the conversation\n",
    "            prompt (str): The user's input prompt to send to the agent\n",
    "            \n",
    "        Returns:\n",
    "            dict: The processed response from the agent including any control flow modifications\n",
    "        \"\"\"\n",
    "\n",
    "        kwargs = dict(\n",
    "            agentId=self.agent_id,\n",
    "            agentAliasId=self.alias_id,\n",
    "            sessionId=session_id or self.session_id,\n",
    "            inputText=prompt\n",
    "        )\n",
    "        if prompt.startswith(\"/new \"):            \n",
    "            kwargs[\"inputText\"] = prompt.replace(\"/new \", \"\")\n",
    "            kwargs[\"endSession\"] = True\n",
    "\n",
    "        print (\"AGENT INVOCATION KWARGS\")\n",
    "        print (kwargs)\n",
    "        try:\n",
    "            response = self.agents_runtime_client.invoke_agent(**kwargs, )\n",
    "\n",
    "            completion = \"\"\n",
    "\n",
    "            for event in response.get(\"completion\"):\n",
    "                if event.get(\"returnControl\"):\n",
    "                    return event, self.return_control(event)\n",
    "                chunk = event[\"chunk\"]\n",
    "                completion = completion + chunk[\"bytes\"].decode()\n",
    "\n",
    "        except ClientError as e:\n",
    "            print(f\"Couldn't invoke agent. {e}\")\n",
    "            return None\n",
    "\n",
    "        return completion\n"
   ]
  },
  {
   "cell_type": "code",
   "execution_count": 2,
   "metadata": {},
   "outputs": [],
   "source": [
    "AGENT_ID = \"ZY07IWCMGN\"\n",
    "session_id = \"10003\"\n",
    "bedrock_agent = BedrockAgentService(agent_id=AGENT_ID, session_id=session_id)"
   ]
  },
  {
   "cell_type": "code",
   "execution_count": 3,
   "metadata": {},
   "outputs": [
    {
     "name": "stdout",
     "output_type": "stream",
     "text": [
      "AGENT INVOCATION KWARGS\n",
      "{'agentId': 'ZY07IWCMGN', 'agentAliasId': 'TSTALIASID', 'sessionId': '10003', 'inputText': 'Hola tengo un problema con mi pedido'}\n"
     ]
    },
    {
     "data": {
      "text/plain": [
       "'Entiendo que tiene un problema con su pedido. ¿Podría proporcionarme el número de pedido y su número de documento de identidad para que pueda ayudarle a verificar el estado de su orden?'"
      ]
     },
     "execution_count": 3,
     "metadata": {},
     "output_type": "execute_result"
    }
   ],
   "source": [
    "bedrock_agent.invoke_agent(\"Hola tengo un problema con mi pedido\")"
   ]
  },
  {
   "cell_type": "code",
   "execution_count": 4,
   "metadata": {},
   "outputs": [
    {
     "name": "stdout",
     "output_type": "stream",
     "text": [
      "AGENT INVOCATION KWARGS\n",
      "{'agentId': 'ZY07IWCMGN', 'agentAliasId': 'TSTALIASID', 'sessionId': '10003', 'inputText': 'el pedido 10020030 no ha llegado, rut 12345678-9'}\n"
     ]
    },
    {
     "data": {
      "text/plain": [
       "'Según nuestro sistema, su pedido número 10020030 actualmente está en estado \"Despacho Programado\". Está programado para ser entregado el 6 de agosto de 2024 en la dirección Calle las acacias 123, Providencia, Región Metropolitana. Si necesita más información o tiene alguna consulta adicional, por favor no dude en preguntar.'"
      ]
     },
     "execution_count": 4,
     "metadata": {},
     "output_type": "execute_result"
    }
   ],
   "source": [
    "bedrock_agent.invoke_agent(\"el pedido 10020030 no ha llegado, rut 12345678-9\")"
   ]
  },
  {
   "cell_type": "code",
   "execution_count": 5,
   "metadata": {},
   "outputs": [
    {
     "name": "stdout",
     "output_type": "stream",
     "text": [
      "AGENT INVOCATION KWARGS\n",
      "{'agentId': 'ZY07IWCMGN', 'agentAliasId': 'TSTALIASID', 'sessionId': '10003', 'inputText': 'Pero es que ya pasó la fecha de envío, cuántos dias?'}\n"
     ]
    },
    {
     "data": {
      "text/plain": [
       "'Entiendo su preocupación. Según nuestros registros, su pedido está 220 días atrasado con respecto a la fecha de entrega programada originalmente (6 de agosto de 2024). Le recomiendo comunicarse con nuestro servicio al cliente para investigar el motivo del retraso y encontrar una solución. ¿Le gustaría que le proporcione más información o ayuda para resolver este problema?'"
      ]
     },
     "execution_count": 5,
     "metadata": {},
     "output_type": "execute_result"
    }
   ],
   "source": [
    "bedrock_agent.invoke_agent(\"Pero es que ya pasó la fecha de envío, cuántos dias?\")"
   ]
  },
  {
   "cell_type": "code",
   "execution_count": 6,
   "metadata": {},
   "outputs": [
    {
     "name": "stdout",
     "output_type": "stream",
     "text": [
      "AGENT INVOCATION KWARGS\n",
      "{'agentId': 'ZY07IWCMGN', 'agentAliasId': 'TSTALIASID', 'sessionId': '10003', 'inputText': 'que puedo hacer?'}\n"
     ]
    },
    {
     "data": {
      "text/plain": [
       "'He creado un ticket de soporte con el número 202503142209 para investigar el problema con su pedido. Nuestro equipo de servicio al cliente se pondrá en contacto con usted pronto para:\\n\\n1. Investigar el motivo del retraso de su pedido\\n2. Buscar una solución\\n3. Ofrecerle una compensación o reembolso si es necesario\\n\\nLe recomiendo estar atento a cualquier comunicación de nuestra parte. ¿Hay algún método de contacto que prefiera (teléfono, correo electrónico)?'"
      ]
     },
     "execution_count": 6,
     "metadata": {},
     "output_type": "execute_result"
    }
   ],
   "source": [
    "bedrock_agent.invoke_agent(\"que puedo hacer?\")"
   ]
  },
  {
   "cell_type": "code",
   "execution_count": 7,
   "metadata": {},
   "outputs": [
    {
     "name": "stdout",
     "output_type": "stream",
     "text": [
      "AGENT INVOCATION KWARGS\n",
      "{'agentId': 'ZY07IWCMGN', 'agentAliasId': 'TSTALIASID', 'sessionId': '10003', 'inputText': 'puedes darme el estado del ticket 202503142209? '}\n"
     ]
    },
    {
     "data": {
      "text/plain": [
       "'El estado actual del ticket 202503142209 es \"open\" (abierto). Esto significa que:\\n- El ticket está activo en nuestro sistema\\n- Nuestro equipo de servicio al cliente está trabajando en su caso\\n- Aún no se ha resuelto completamente la situación con su pedido\\n\\nLe recomendamos estar atento a futuras comunicaciones relacionadas con este ticket.'"
      ]
     },
     "execution_count": 7,
     "metadata": {},
     "output_type": "execute_result"
    }
   ],
   "source": [
    "bedrock_agent.invoke_agent(\"puedes darme el estado del ticket 202503142209? \")"
   ]
  },
  {
   "cell_type": "code",
   "execution_count": 8,
   "metadata": {},
   "outputs": [
    {
     "name": "stdout",
     "output_type": "stream",
     "text": [
      "AGENT INVOCATION KWARGS\n",
      "{'agentId': 'ZY07IWCMGN', 'agentAliasId': 'TSTALIASID', 'sessionId': '10003', 'inputText': 'Necesito escalarlo'}\n"
     ]
    },
    {
     "data": {
      "text/plain": [
       "({'returnControl': {'invocationId': '7b75a175-b01a-48f6-b3fa-5abbbd35149d',\n",
       "   'invocationInputs': [{'functionInvocationInput': {'actionGroup': 'Escalation',\n",
       "      'actionInvocationType': 'RESULT',\n",
       "      'agentId': 'ORXFDFEY5N',\n",
       "      'collaboratorName': 'escalation',\n",
       "      'function': 'escalate',\n",
       "      'parameters': [{'name': 'identity_document_number',\n",
       "        'type': 'string',\n",
       "        'value': '12345678-9'},\n",
       "       {'name': 'order_number', 'type': 'string', 'value': '10020030'},\n",
       "       {'name': 'description',\n",
       "        'type': 'string',\n",
       "        'value': 'Pedido con 220 días de retraso, cliente solicita escalamiento urgente para resolver problema de entrega'},\n",
       "       {'name': 'ticket_number',\n",
       "        'type': 'string',\n",
       "        'value': '202503142209'}]}}]}},\n",
       " {'invocationId': '7b75a175-b01a-48f6-b3fa-5abbbd35149d',\n",
       "  'actionGroup': 'Escalation',\n",
       "  'agentId': 'ORXFDFEY5N',\n",
       "  'functionName': 'escalate',\n",
       "  'parameters': {'identity_document_number': '12345678-9',\n",
       "   'order_number': '10020030',\n",
       "   'description': 'Pedido con 220 días de retraso, cliente solicita escalamiento urgente para resolver problema de entrega',\n",
       "   'ticket_number': '202503142209'},\n",
       "  'actionInvocationType': 'RESULT'})"
      ]
     },
     "execution_count": 8,
     "metadata": {},
     "output_type": "execute_result"
    }
   ],
   "source": [
    "bedrock_agent.invoke_agent(\"Necesito escalarlo\")"
   ]
  },
  {
   "cell_type": "code",
   "execution_count": 9,
   "metadata": {},
   "outputs": [
    {
     "data": {
      "text/plain": [
       "'He escalado su caso a nuestro equipo especializado. El escalamiento ha sido exitoso y será revisado por un supervisor. Le recomendamos esperar una respuesta en las próximas 24-48 horas hábiles. Mantendremos su ticket 202503142209 con prioridad alta para resolver el problema con su pedido 10020030.'"
      ]
     },
     "execution_count": 9,
     "metadata": {},
     "output_type": "execute_result"
    }
   ],
   "source": [
    "bedrock_agent.return_control_invocation_results(\n",
    "    \"7b75a175-b01a-48f6-b3fa-5abbbd35149d\",\n",
    "    \"Escalation\",\n",
    "    \"escalate\",\n",
    "    \"escalation=OK\",\n",
    "    \"ORXFDFEY5N\",\n",
    ")"
   ]
  },
  {
   "cell_type": "code",
   "execution_count": 10,
   "metadata": {},
   "outputs": [
    {
     "name": "stdout",
     "output_type": "stream",
     "text": [
      "AGENT INVOCATION KWARGS\n",
      "{'agentId': 'ZY07IWCMGN', 'agentAliasId': 'TSTALIASID', 'sessionId': '10003', 'inputText': 'OK Gracias, por tu trabajo'}\n"
     ]
    },
    {
     "data": {
      "text/plain": [
       "'De nada. Estoy aquí para ayudarle en lo que necesite. ¿En qué puedo servirle hoy?'"
      ]
     },
     "execution_count": 10,
     "metadata": {},
     "output_type": "execute_result"
    }
   ],
   "source": [
    "bedrock_agent.invoke_agent(\"OK Gracias, por tu trabajo\")"
   ]
  },
  {
   "cell_type": "code",
   "execution_count": null,
   "metadata": {},
   "outputs": [],
   "source": []
  }
 ],
 "metadata": {
  "kernelspec": {
   "display_name": ".venv",
   "language": "python",
   "name": "python3"
  },
  "language_info": {
   "codemirror_mode": {
    "name": "ipython",
    "version": 3
   },
   "file_extension": ".py",
   "mimetype": "text/x-python",
   "name": "python",
   "nbconvert_exporter": "python",
   "pygments_lexer": "ipython3",
   "version": "3.13.1"
  }
 },
 "nbformat": 4,
 "nbformat_minor": 2
}
