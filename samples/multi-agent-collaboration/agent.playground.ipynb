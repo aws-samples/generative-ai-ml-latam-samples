{
 "cells": [
  {
   "cell_type": "code",
   "execution_count": 25,
   "metadata": {},
   "outputs": [],
   "source": [
    "import boto3\n",
    "from botocore.exceptions import ClientError\n",
    "import time\n",
    "\n",
    "class BedrockAgentService:\n",
    "    \"\"\"\n",
    "    A service class to interact with AWS Bedrock Agents.\n",
    "    \n",
    "    This class provides functionality to invoke Bedrock agents and handle their responses,\n",
    "    including parameter parsing and control flow management.\n",
    "    \"\"\"\n",
    "    \n",
    "    def __init__(self, agent_id: str, alias_id: str = \"TSTALIASID\", session_id = None, client = None) -> None:\n",
    "        \"\"\"\n",
    "        Initialize the BedrockAgentService.\n",
    "        \n",
    "        Args:\n",
    "            agent_id (str): The ID of the Bedrock agent to interact with\n",
    "            alias_id (str, optional): The alias ID for the agent. Defaults to \"TSTALIASID\"\n",
    "            client: The boto3 client for Bedrock runtime. If None, creates a new client\n",
    "        \"\"\"\n",
    "        self.agents_runtime_client = (\n",
    "            client if client else boto3.client(\"bedrock-agent-runtime\")\n",
    "        )\n",
    "        self.agent_id = agent_id\n",
    "        self.alias_id = alias_id\n",
    "        self.session_id = session_id or str(int(time.time()))\n",
    "\n",
    "    def set_session_id(self, session_id: str) -> None:\n",
    "        \"\"\"\n",
    "        Set the session ID for the agent.\n",
    "\n",
    "        Args:\n",
    "            session_id (str): The session ID to be used for the agent interaction\n",
    "        \"\"\"\n",
    "        self.session_id = session_id\n",
    "\n",
    "    def parse_parameters(self, parameters: list) -> dict:\n",
    "        \"\"\"\n",
    "        Parse parameters from the agent response into a dictionary format.\n",
    "        \n",
    "        Args:\n",
    "            parameters (list): List of parameter dictionaries containing name and value pairs\n",
    "            \n",
    "        Returns:\n",
    "            dict: Dictionary mapping parameter names to their values\n",
    "        \"\"\"\n",
    "        return {param[\"name\"]: param[\"value\"] for param in parameters}\n",
    "\n",
    "    def return_control(self, completion: dict) -> dict:\n",
    "        \"\"\"\n",
    "        Process the completion response and extract control flow information.\n",
    "        \n",
    "        Args:\n",
    "            completion (dict): The completion response from the agent containing control information\n",
    "            \n",
    "        Returns:\n",
    "            dict: Processed control information including invocation details and parameters\n",
    "        \"\"\"\n",
    "        rc = completion.get(\"returnControl\", {})\n",
    "        invocationId = rc.get(\"invocationId\", \"\")\n",
    "        invocationInputs = rc.get(\"invocationInputs\",[])\n",
    "\n",
    "        return_dict = { \"invocationId\": invocationId}\n",
    "        \n",
    "        if len(invocationInputs):\n",
    "            functionInvocationInput = invocationInputs[0].get(\"functionInvocationInput\", {})\n",
    "            actionGroup = functionInvocationInput.get(\"actionGroup\", {})\n",
    "            agentId = functionInvocationInput.get(\"agentId\", None)\n",
    "            actionInvocationType = functionInvocationInput.get(\"actionInvocationType\", \"\")\n",
    "            functionName = functionInvocationInput.get(\"function\", \"\")\n",
    "            parameters = functionInvocationInput.get(\"parameters\", {})\n",
    "            parsed_parameters = self.parse_parameters(parameters)\n",
    "            return_dict.update(\n",
    "                {\n",
    "                    \"actionGroup\": actionGroup,\n",
    "                    \"agentId\": agentId,\n",
    "                    \"functionName\": functionName,\n",
    "                    \"parameters\": parsed_parameters,\n",
    "                    \"actionInvocationType\": actionInvocationType,\n",
    "                }\n",
    "            )\n",
    "        return return_dict\n",
    "\n",
    "    def return_control_invocation_results(\n",
    "        self, \n",
    "        invocation_id: str, \n",
    "        action_group: str, \n",
    "        function_name: str, \n",
    "        invocation_result: str,\n",
    "        agent_id : str  = None,\n",
    "        session_id: str = None, \n",
    "    ) -> str:\n",
    "        \"\"\"\n",
    "        Send the results of a function invocation back to the agent.\n",
    "        \n",
    "        Args:\n",
    "            session_id (str): The current session identifier\n",
    "            invocation_id (str): The ID of the invocation being responded to\n",
    "            action_group (str): The action group that was invoked\n",
    "            function_name (str): The name of the function that was called\n",
    "            invocation_result (str): The result of the function invocation\n",
    "            \n",
    "        Returns:\n",
    "            str: The completion response from the agent after processing the results\n",
    "        \"\"\"\n",
    "        try:\n",
    "            response = self.agents_runtime_client.invoke_agent(\n",
    "                agentId=self.agent_id,\n",
    "                agentAliasId=self.alias_id,\n",
    "                sessionId=session_id or self.session_id,\n",
    "                sessionState={\n",
    "                    \"invocationId\": invocation_id,\n",
    "                    \"returnControlInvocationResults\": [\n",
    "                        {\n",
    "                            \"functionResult\": {\n",
    "                                \"actionGroup\": action_group,\n",
    "                                \"agentId\": agent_id or self.agent_id,\n",
    "                                \"function\": function_name,\n",
    "                                \"responseBody\": {\"TEXT\": {\"body\": invocation_result}},\n",
    "                            }\n",
    "                        }\n",
    "                    ],\n",
    "                },\n",
    "            )\n",
    "\n",
    "            completion = \"\"\n",
    "\n",
    "            for event in response.get(\"completion\"):\n",
    "                if event.get(\"returnControl\"):\n",
    "                    return self.return_control(event)\n",
    "                chunk = event[\"chunk\"]\n",
    "                completion = completion + chunk[\"bytes\"].decode()\n",
    "\n",
    "        except ClientError as e:\n",
    "            print(f\"Couldn't invoke agent. {e}\")\n",
    "\n",
    "        return completion\n",
    "\n",
    "    # from https://docs.aws.amazon.com/code-library/latest/ug/python_3_bedrock-agent-runtime_code_examples.html\n",
    "    def invoke_agent(self, prompt: str, session_id: str = None) -> dict:\n",
    "        \"\"\"\n",
    "        Invoke the Bedrock agent with a prompt and handle the response.\n",
    "        \n",
    "        Args:\n",
    "            session_id (str): The session identifier for the conversation\n",
    "            prompt (str): The user's input prompt to send to the agent\n",
    "            \n",
    "        Returns:\n",
    "            dict: The processed response from the agent including any control flow modifications\n",
    "        \"\"\"\n",
    "\n",
    "        kwargs = dict(\n",
    "            agentId=self.agent_id,\n",
    "            agentAliasId=self.alias_id,\n",
    "            sessionId=session_id or self.session_id,\n",
    "            inputText=prompt\n",
    "        )\n",
    "        if prompt.startswith(\"/new \"):            \n",
    "            kwargs[\"inputText\"] = prompt.replace(\"/new \", \"\")\n",
    "            kwargs[\"endSession\"] = True\n",
    "\n",
    "        print (\"AGENT INVOCATION KWARGS\")\n",
    "        print (kwargs)\n",
    "        try:\n",
    "            response = self.agents_runtime_client.invoke_agent(**kwargs, )\n",
    "\n",
    "            completion = \"\"\n",
    "\n",
    "            for event in response.get(\"completion\"):\n",
    "                if event.get(\"returnControl\"):\n",
    "                    return event, self.return_control(event)\n",
    "                chunk = event[\"chunk\"]\n",
    "                completion = completion + chunk[\"bytes\"].decode()\n",
    "\n",
    "        except ClientError as e:\n",
    "            print(f\"Couldn't invoke agent. {e}\")\n",
    "            return None\n",
    "\n",
    "        return completion\n"
   ]
  },
  {
   "cell_type": "code",
   "execution_count": 27,
   "metadata": {},
   "outputs": [
    {
     "name": "stdout",
     "output_type": "stream",
     "text": [
      "AGENT INVOCATION KWARGS\n",
      "{'agentId': '859XC0IM9C', 'agentAliasId': 'TSTALIASID', 'sessionId': '004', 'inputText': 'Hola tengo un problema con mi pedido , mi rut es 10192797-1 y el pedido 10026656'}\n"
     ]
    },
    {
     "data": {
      "text/plain": [
       "'Según nuestro sistema, su pedido número 10026656 se encuentra actualmente en estado \"Despacho Programado\". Está programado para ser entregado el 6 de agosto de 2024 en la dirección Calle las acacias 123, Providencia, Región Metropolitana. ¿En qué más puedo ayudarle?'"
      ]
     },
     "execution_count": 27,
     "metadata": {},
     "output_type": "execute_result"
    }
   ],
   "source": [
    "AGENT_ID = \"859XC0IM9C\"\n",
    "AGENT_ALIAS_ID = \"TSTALIASID\"\n",
    "session_id = \"004\"\n",
    "bedrock_agent = BedrockAgentService(AGENT_ID, AGENT_ALIAS_ID, session_id)\n",
    "first_utternace = \"Hola tengo un problema con mi pedido , mi rut es 10192797-1 y el pedido 10026656\"\n",
    "bedrock_agent.invoke_agent(first_utternace)"
   ]
  },
  {
   "cell_type": "code",
   "execution_count": 28,
   "metadata": {},
   "outputs": [
    {
     "name": "stdout",
     "output_type": "stream",
     "text": [
      "AGENT INVOCATION KWARGS\n",
      "{'agentId': '859XC0IM9C', 'agentAliasId': 'TSTALIASID', 'sessionId': '004', 'inputText': 'Pero es que ya pasó la fecha de envío'}\n"
     ]
    },
    {
     "data": {
      "text/plain": [
       "'He creado un ticket de soporte con el número 202502170225 para investigar el retraso en su pedido. Nuestro equipo revisará el estado de su envío y se comunicará con usted pronto para resolver la situación. El ticket está actualmente abierto y en proceso de investigación. ¿Hay algún detalle adicional que pueda proporcionarme sobre el pedido?'"
      ]
     },
     "execution_count": 28,
     "metadata": {},
     "output_type": "execute_result"
    }
   ],
   "source": [
    "bedrock_agent.invoke_agent(\"Pero es que ya pasó la fecha de envío\")"
   ]
  },
  {
   "cell_type": "code",
   "execution_count": 29,
   "metadata": {},
   "outputs": [
    {
     "name": "stdout",
     "output_type": "stream",
     "text": [
      "AGENT INVOCATION KWARGS\n",
      "{'agentId': '859XC0IM9C', 'agentAliasId': 'TSTALIASID', 'sessionId': '004', 'inputText': 'Puedes ayudarme a escalarlo con alguien humano?'}\n"
     ]
    },
    {
     "data": {
      "text/plain": [
       "({'returnControl': {'invocationId': 'bf5b5069-c9c4-49d3-bb0a-cf6197702ab4',\n",
       "   'invocationInputs': [{'functionInvocationInput': {'actionGroup': 'Escalation',\n",
       "      'actionInvocationType': 'RESULT',\n",
       "      'agentId': 'OELO0POXNZ',\n",
       "      'collaboratorName': 'escalation',\n",
       "      'function': 'escalate',\n",
       "      'parameters': [{'name': 'identity_document_number',\n",
       "        'type': 'string',\n",
       "        'value': '10192797-1'},\n",
       "       {'name': 'order_number', 'type': 'string', 'value': '10026656'},\n",
       "       {'name': 'description',\n",
       "        'type': 'string',\n",
       "        'value': 'Cliente reporta retraso en la entrega de su pedido. La fecha de envío programada ya pasó y no ha recibido su producto.'},\n",
       "       {'name': 'ticket_number',\n",
       "        'type': 'string',\n",
       "        'value': '202502170225'}]}}]}},\n",
       " {'invocationId': 'bf5b5069-c9c4-49d3-bb0a-cf6197702ab4',\n",
       "  'actionGroup': 'Escalation',\n",
       "  'agentId': 'OELO0POXNZ',\n",
       "  'functionName': 'escalate',\n",
       "  'parameters': {'identity_document_number': '10192797-1',\n",
       "   'order_number': '10026656',\n",
       "   'description': 'Cliente reporta retraso en la entrega de su pedido. La fecha de envío programada ya pasó y no ha recibido su producto.',\n",
       "   'ticket_number': '202502170225'},\n",
       "  'actionInvocationType': 'RESULT'})"
      ]
     },
     "execution_count": 29,
     "metadata": {},
     "output_type": "execute_result"
    }
   ],
   "source": [
    "bedrock_agent.invoke_agent(\"Puedes ayudarme a escalarlo con alguien humano?\")"
   ]
  },
  {
   "cell_type": "code",
   "execution_count": null,
   "metadata": {},
   "outputs": [
    {
     "data": {
      "text/plain": [
       "'He escalado su caso a nuestro equipo de soporte especializado. Un agente humano revisará su pedido 10026656 y se comunicará con usted pronto para resolver el problema del retraso en la entrega. Le pedimos disculpas por las molestias ocasionadas.'"
      ]
     },
     "execution_count": 32,
     "metadata": {},
     "output_type": "execute_result"
    }
   ],
   "source": [
    "bedrock_agent.return_control_invocation_results(\n",
    "    \"bf5b5069-c9c4-49d3-bb0a-cf6197702ab4\",\n",
    "    \"Escalation\",\n",
    "    \"escalate\",\n",
    "    \"escalation=OK\",\n",
    "    \"OELO0POXNZ\",\n",
    ")"
   ]
  },
  {
   "cell_type": "code",
   "execution_count": 33,
   "metadata": {},
   "outputs": [
    {
     "name": "stdout",
     "output_type": "stream",
     "text": [
      "AGENT INVOCATION KWARGS\n",
      "{'agentId': '859XC0IM9C', 'agentAliasId': 'TSTALIASID', 'sessionId': '004', 'inputText': 'OK Gracias, por tu trabajo'}\n"
     ]
    },
    {
     "data": {
      "text/plain": [
       "'Muchas gracias por su comprensión. Estamos comprometidos en resolver su problema y le aseguramos que nuestro equipo hará todo lo posible para atender su caso. Que tenga un excelente día.'"
      ]
     },
     "execution_count": 33,
     "metadata": {},
     "output_type": "execute_result"
    }
   ],
   "source": [
    "bedrock_agent.invoke_agent(\"OK Gracias, por tu trabajo\")"
   ]
  },
  {
   "cell_type": "code",
   "execution_count": null,
   "metadata": {},
   "outputs": [],
   "source": []
  }
 ],
 "metadata": {
  "kernelspec": {
   "display_name": ".venv",
   "language": "python",
   "name": "python3"
  },
  "language_info": {
   "codemirror_mode": {
    "name": "ipython",
    "version": 3
   },
   "file_extension": ".py",
   "mimetype": "text/x-python",
   "name": "python",
   "nbconvert_exporter": "python",
   "pygments_lexer": "ipython3",
   "version": "3.13.1"
  }
 },
 "nbformat": 4,
 "nbformat_minor": 2
}
