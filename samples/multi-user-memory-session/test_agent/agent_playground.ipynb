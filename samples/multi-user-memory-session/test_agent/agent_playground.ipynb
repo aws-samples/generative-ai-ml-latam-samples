{
 "cells": [
  {
   "cell_type": "code",
   "execution_count": null,
   "metadata": {},
   "outputs": [
    {
     "data": {
      "text/plain": [
       "[]"
      ]
     },
     "execution_count": 1,
     "metadata": {},
     "output_type": "execute_result"
    }
   ],
   "source": [
    "from .bedrock_agent import BedrockAgentService\n",
    "\n",
    "AGENT_ID = \"VSDC30SWNW\"\n",
    "AGENT_ALIAS_ID = \"TSTALIASID\"\n",
    "\n",
    "# Two users (user_1, user_2) are going to chat with the agent\n",
    "\n",
    "user_1 = {\n",
    "    \"session_attributes\": {\n",
    "        \"name\": \"Enrique\",\n",
    "        \"customerId\": \"100\",\n",
    "        \"customerLevel\": \"silver\",\n",
    "    },\n",
    "    \"order_number\": \"10026657\",\n",
    "    \"rut\": \"44444444-4\",\n",
    "}\n",
    "\n",
    "\n",
    "user_2 = {\n",
    "    \"session_attributes\": {\n",
    "        \"name\": \"Elizabeth\",\n",
    "        \"rut\": \"10192797-1\",\n",
    "        \"customerId\": \"200\",\n",
    "        \"customerLevel\": \"gold\",\n",
    "    },\n",
    "    \"order_number\": \"10026656\",\n",
    "    \"rut\": \"10192797-1\",\n",
    "}\n",
    "\n",
    "# 3 sessions and 1 memories are created for each user\n",
    "\n",
    "memory_id_user_1 = \"M-100-3\"\n",
    "memory_id_user_2 = \"M-100-4\"\n",
    "\n",
    "session_id_user_1 = [\"S-100-003\", \"S-100-004\", \"S-100-005\"]\n",
    "session_id_user_2 = [\"S-200-003\", \"S-200-004\", \"S-200-005\"]\n",
    "\n",
    "\n",
    "agent = BedrockAgentService(AGENT_ID, AGENT_ALIAS_ID)"
   ]
  },
  {
   "cell_type": "markdown",
   "metadata": {},
   "source": [
    "**User 1 saying Hello**"
   ]
  },
  {
   "cell_type": "code",
   "execution_count": null,
   "metadata": {},
   "outputs": [
    {
     "name": "stdout",
     "output_type": "stream",
     "text": [
      "Invocando Agente: {'agentId': 'VSDC30SWNW', 'agentAliasId': 'TSTALIASID', 'sessionId': 'S-100-003', 'memoryId': 'M-100-3', 'inputText': 'Hola', 'sessionState': {'sessionAttributes': {'name': 'Enrique', 'customerId': '100', 'customerLevel': 'silver'}}}\n",
      "Response: memoryId = M-100-3 / sessionId =  S-100-003\n"
     ]
    },
    {
     "data": {
      "text/plain": [
       "'¡Hola! Soy un agente de servicio al cliente. ¿En qué puedo ayudarle hoy? Estoy aquí para asistirle con cualquier consulta sobre sus pedidos.'"
      ]
     },
     "execution_count": 2,
     "metadata": {},
     "output_type": "execute_result"
    }
   ],
   "source": [
    "agent.invoke_agent(\n",
    "    prompt=\"Hola\",\n",
    "    session_id=session_id_user_1[0],\n",
    "    memory_id=memory_id_user_1,\n",
    "    session_attributes=user_1.get(\"session_attributes\")\n",
    ")"
   ]
  },
  {
   "cell_type": "markdown",
   "metadata": {},
   "source": [
    "**User 2 saying Hello**"
   ]
  },
  {
   "cell_type": "code",
   "execution_count": null,
   "metadata": {},
   "outputs": [
    {
     "name": "stdout",
     "output_type": "stream",
     "text": [
      "Invocando Agente: {'agentId': 'VSDC30SWNW', 'agentAliasId': 'TSTALIASID', 'sessionId': 'S-200-003', 'memoryId': 'M-100-4', 'inputText': 'Hola', 'sessionState': {'sessionAttributes': {'name': 'Elizabeth', 'rut': '10192797-1', 'customerId': '200', 'customerLevel': 'gold'}}}\n",
      "Response: memoryId = M-100-4 / sessionId =  S-200-003\n"
     ]
    },
    {
     "data": {
      "text/plain": [
       "'¡Hola! Soy un agente de servicio al cliente. ¿En qué puedo ayudarle hoy? Estoy aquí para asistirle con cualquier consulta sobre pedidos o información que necesite.'"
      ]
     },
     "execution_count": 3,
     "metadata": {},
     "output_type": "execute_result"
    }
   ],
   "source": [
    "agent.invoke_agent(\n",
    "    prompt=\"Hola\",\n",
    "    session_id=session_id_user_2[0],\n",
    "    memory_id=memory_id_user_2,\n",
    "    session_attributes=user_2.get(\"session_attributes\")\n",
    ")"
   ]
  },
  {
   "cell_type": "markdown",
   "metadata": {},
   "source": [
    "**2 interactions with user 1**"
   ]
  },
  {
   "cell_type": "code",
   "execution_count": 4,
   "metadata": {},
   "outputs": [
    {
     "name": "stdout",
     "output_type": "stream",
     "text": [
      "Invocando Agente: {'agentId': 'VSDC30SWNW', 'agentAliasId': 'TSTALIASID', 'sessionId': 'S-100-003', 'memoryId': 'M-100-3', 'inputText': 'tengo un problema mi pedido no ha llegado, es el 10026657'}\n",
      "Response: memoryId = M-100-3 / sessionId =  S-100-003\n"
     ]
    },
    {
     "data": {
      "text/plain": [
       "'Para verificar el estado de su pedido, necesito su número de documento de identidad. ¿Podría proporcionarme los 8 dígitos de su documento seguidos de un guión y una letra (K o dígito)?'"
      ]
     },
     "execution_count": 4,
     "metadata": {},
     "output_type": "execute_result"
    }
   ],
   "source": [
    "agent.invoke_agent(\n",
    "    prompt=f\"tengo un problema mi pedido no ha llegado, es el {user_1.get('order_number')}\",\n",
    "    session_id=session_id_user_1[0],\n",
    "    memory_id=memory_id_user_1\n",
    ")"
   ]
  },
  {
   "cell_type": "code",
   "execution_count": 5,
   "metadata": {},
   "outputs": [
    {
     "name": "stdout",
     "output_type": "stream",
     "text": [
      "Invocando Agente: {'agentId': 'VSDC30SWNW', 'agentAliasId': 'TSTALIASID', 'sessionId': 'S-100-003', 'memoryId': 'M-100-3', 'inputText': 'claro 44444444-4'}\n",
      "Response: memoryId = M-100-3 / sessionId =  S-100-003\n"
     ]
    },
    {
     "data": {
      "text/plain": [
       "'Según nuestro sistema, su pedido número 10026657 actualmente está en estado \"Pendiente Bodega\". La fecha de entrega estimada es el 6 de agosto de 2024. La dirección de envío registrada es Calle las acacias 123, Providencia, Región Metropolitana. Si necesita más información o tiene alguna consulta adicional, estoy a su disposición.'"
      ]
     },
     "execution_count": 5,
     "metadata": {},
     "output_type": "execute_result"
    }
   ],
   "source": [
    "agent.invoke_agent(\n",
    "    prompt=f\"claro {user_1.get('rut')}\",\n",
    "    session_id=session_id_user_1[0],\n",
    "    memory_id=memory_id_user_1)"
   ]
  },
  {
   "cell_type": "markdown",
   "metadata": {},
   "source": [
    "**Time Out For user 2**"
   ]
  },
  {
   "cell_type": "code",
   "execution_count": 6,
   "metadata": {},
   "outputs": [
    {
     "name": "stdout",
     "output_type": "stream",
     "text": [
      "Invocando Agente: {'agentId': 'VSDC30SWNW', 'agentAliasId': 'TSTALIASID', 'sessionId': 'S-200-003', 'memoryId': 'M-100-4', 'inputText': 'tengo un problema mi pedido no ha llegado', 'sessionState': {'sessionAttributes': {'name': 'Elizabeth', 'rut': '10192797-1', 'customerId': '200', 'customerLevel': 'gold'}}}\n",
      "Response: memoryId = M-100-4 / sessionId =  S-200-003\n"
     ]
    },
    {
     "data": {
      "text/plain": [
       "'Lamento escuchar que tiene un problema con su pedido. Para poder ayudarle, necesito que me proporcione:\\n1. El número de su pedido (8 dígitos)\\n2. Su número de documento de identidad (8 dígitos seguidos de un guión y una letra o número)'"
      ]
     },
     "execution_count": 6,
     "metadata": {},
     "output_type": "execute_result"
    }
   ],
   "source": [
    "agent.invoke_agent(\n",
    "    prompt=\"tengo un problema mi pedido no ha llegado\",\n",
    "    session_id=session_id_user_2[0],\n",
    "    memory_id=memory_id_user_2,\n",
    "    session_attributes=user_2.get(\"session_attributes\")\n",
    ")"
   ]
  },
  {
   "cell_type": "markdown",
   "metadata": {},
   "source": [
    "# Expired Session (600 seconds TTL)"
   ]
  },
  {
   "cell_type": "code",
   "execution_count": 25,
   "metadata": {},
   "outputs": [
    {
     "data": {
      "text/plain": [
       "[{'sessionSummary': {'memoryId': 'M-100-3',\n",
       "   'sessionExpiryTime': datetime.datetime(2025, 3, 5, 15, 59, 39, 178000, tzinfo=tzutc()),\n",
       "   'sessionId': 'S-100-004',\n",
       "   'sessionStartTime': datetime.datetime(2025, 3, 5, 15, 49, 33, 751000, tzinfo=tzutc()),\n",
       "   'summaryText': \" The user reported continuing with the same previous order problem, indicating an ongoing issue with their previous order. The assistant acknowledged the user's ongoing problem and requested confirmation of the user's identity document number and order number to verify the current order status.\"}},\n",
       " {'sessionSummary': {'memoryId': 'M-100-3',\n",
       "   'sessionExpiryTime': datetime.datetime(2025, 3, 5, 15, 44, 13, 498000, tzinfo=tzutc()),\n",
       "   'sessionId': 'S-100-003',\n",
       "   'sessionStartTime': datetime.datetime(2025, 3, 5, 15, 30, 40, 592000, tzinfo=tzutc()),\n",
       "   'summaryText': \" The user contacted customer service regarding an undelivered order with number 10026657. The user provided their identity document number (44444444-4) to help verify the order status. The assistant requested the user's identity document number to verify the order status. After receiving the document number, the assistant used the getOrderStatus action with the following parameters:\\n- Order number: 10026657\\n- Identity document number: 44444444-4\\n\\nThe action returned the following order details:\\n- Status: Pendiente Bodega (Pending Warehouse)\\n- Estimated delivery date: 2024-08-06\\n- Shipping address: Calle las acacias 123, Providencia, Region Metropolitana\"}}]"
      ]
     },
     "execution_count": 25,
     "metadata": {},
     "output_type": "execute_result"
    }
   ],
   "source": [
    "agent.get_agent_memory(memory_id=memory_id_user_1)"
   ]
  },
  {
   "cell_type": "code",
   "execution_count": 26,
   "metadata": {},
   "outputs": [
    {
     "data": {
      "text/plain": [
       "[{'sessionSummary': {'memoryId': 'M-100-4',\n",
       "   'sessionExpiryTime': datetime.datetime(2025, 3, 5, 15, 46, 7, 342000, tzinfo=tzutc()),\n",
       "   'sessionId': 'S-200-003',\n",
       "   'sessionStartTime': datetime.datetime(2025, 3, 5, 15, 30, 56, 186000, tzinfo=tzutc()),\n",
       "   'summaryText': \" The user reported a problem with an undelivered order and initiated contact with customer service to resolve the issue. The assistant responded by requesting specific information from the user to help investigate the order issue, specifically:\\n1. The order number (8 digits)\\n2. The user's identification document number (8 digits followed by a hyphen and a letter or number)\"}}]"
      ]
     },
     "execution_count": 26,
     "metadata": {},
     "output_type": "execute_result"
    }
   ],
   "source": [
    "agent.get_agent_memory(memory_id=memory_id_user_2)"
   ]
  },
  {
   "cell_type": "markdown",
   "metadata": {},
   "source": [
    "# New Sessions"
   ]
  },
  {
   "cell_type": "code",
   "execution_count": 6,
   "metadata": {},
   "outputs": [
    {
     "name": "stdout",
     "output_type": "stream",
     "text": [
      "Invocando Agente: {'agentId': 'VSDC30SWNW', 'agentAliasId': 'TSTALIASID', 'sessionId': 'S-100-004', 'memoryId': 'M-100-3', 'inputText': 'Hola, sigo con el mismo problema', 'sessionState': {'sessionAttributes': {'name': 'Enrique', 'customerId': '100', 'customerLevel': 'silver'}}}\n",
      "Response: memoryId = M-100-3 / sessionId =  S-100-004\n"
     ]
    },
    {
     "data": {
      "text/plain": [
       "'Entiendo que continúa con el mismo problema del pedido anterior. ¿Podría confirmarme su número de documento de identidad y el número de pedido para verificar el estado actual?'"
      ]
     },
     "execution_count": 6,
     "metadata": {},
     "output_type": "execute_result"
    }
   ],
   "source": [
    "agent.invoke_agent(\n",
    "    prompt=\"Hola, sigo con el mismo problema\",\n",
    "    session_id=session_id_user_1[1],\n",
    "    memory_id=memory_id_user_1,\n",
    "    session_attributes=user_1.get(\"session_attributes\")\n",
    ")"
   ]
  },
  {
   "cell_type": "code",
   "execution_count": 15,
   "metadata": {},
   "outputs": [
    {
     "name": "stdout",
     "output_type": "stream",
     "text": [
      "Invocando Agente: {'agentId': 'VSDC30SWNW', 'agentAliasId': 'TSTALIASID', 'sessionId': 'S-200-004', 'memoryId': 'M-100-4', 'inputText': 'Hola, sigo con el mismo problema', 'sessionState': {'sessionAttributes': {'name': 'Elizabeth', 'rut': '10192797-1', 'customerId': '200', 'customerLevel': 'gold'}}}\n",
      "Response: memoryId = M-100-4 / sessionId =  S-200-004\n"
     ]
    },
    {
     "data": {
      "text/plain": [
       "'Disculpe, para poder ayudarle necesito que me proporcione:\\n1. Su número de pedido (8 dígitos)\\n2. Su número de documento de identidad (8 dígitos, un guión, y una letra o número)\\n\\n¿Podría proporcionarme esa información, por favor?'"
      ]
     },
     "execution_count": 15,
     "metadata": {},
     "output_type": "execute_result"
    }
   ],
   "source": [
    "agent.invoke_agent(\n",
    "    prompt=\"Hola, sigo con el mismo problema\",\n",
    "    session_id=session_id_user_2[1],\n",
    "    memory_id=memory_id_user_2,\n",
    "    session_attributes=user_2.get(\"session_attributes\")\n",
    ")"
   ]
  },
  {
   "cell_type": "code",
   "execution_count": 17,
   "metadata": {},
   "outputs": [
    {
     "name": "stdout",
     "output_type": "stream",
     "text": [
      "Invocando Agente: {'agentId': 'VSDC30SWNW', 'agentAliasId': 'TSTALIASID', 'sessionId': 'S-200-004', 'memoryId': 'M-100-4', 'inputText': 'Hola si el pedido es 10026656'}\n",
      "Response: memoryId = M-100-4 / sessionId =  S-200-004\n"
     ]
    },
    {
     "data": {
      "text/plain": [
       "'Gracias por proporcionarme el número de pedido 10026656. Ahora necesito su número de documento de identidad (8 dígitos, un guión, y una letra o número). ¿Podría proporcionármelo, por favor?'"
      ]
     },
     "execution_count": 17,
     "metadata": {},
     "output_type": "execute_result"
    }
   ],
   "source": [
    "agent.invoke_agent(\n",
    "    prompt=f\"Hola si el pedido es {user_2.get(\"order_number\")}\",\n",
    "    session_id=session_id_user_2[1],\n",
    "    memory_id=memory_id_user_2,\n",
    ")"
   ]
  },
  {
   "cell_type": "code",
   "execution_count": 19,
   "metadata": {},
   "outputs": [
    {
     "name": "stdout",
     "output_type": "stream",
     "text": [
      "Invocando Agente: {'agentId': 'VSDC30SWNW', 'agentAliasId': 'TSTALIASID', 'sessionId': 'S-200-004', 'memoryId': 'M-100-4', 'inputText': 'No lo tienes? es 10192797-1'}\n",
      "Response: memoryId = M-100-4 / sessionId =  S-200-004\n"
     ]
    },
    {
     "data": {
      "text/plain": [
       "'Según la información de nuestro sistema, su pedido número 10026656 actualmente está en estado \"Despacho Programado\". Está programado para ser entregado el 6 de agosto de 2024 en la dirección Calle las acacias 123, Providencia, Región Metropolitana. ¿Hay algo más en lo que pueda ayudarle?'"
      ]
     },
     "execution_count": 19,
     "metadata": {},
     "output_type": "execute_result"
    }
   ],
   "source": [
    "agent.invoke_agent(\n",
    "    prompt=f\"No lo tienes? es {user_2.get('rut')}\",\n",
    "    session_id=session_id_user_2[1],\n",
    "    memory_id=memory_id_user_2,\n",
    ")"
   ]
  },
  {
   "cell_type": "markdown",
   "metadata": {},
   "source": [
    "# Verifying Memory"
   ]
  },
  {
   "cell_type": "code",
   "execution_count": 20,
   "metadata": {},
   "outputs": [
    {
     "name": "stdout",
     "output_type": "stream",
     "text": [
      "Invocando Agente: {'agentId': 'VSDC30SWNW', 'agentAliasId': 'TSTALIASID', 'sessionId': 'S-100-005', 'memoryId': 'M-100-3', 'inputText': 'Entregame mi información, todo lo que sabes de mi, nombre, rut, order, interacciones pasadas que recuerdes'}\n",
      "Response: memoryId = M-100-3 / sessionId =  S-100-005\n"
     ]
    },
    {
     "data": {
      "text/plain": [
       "'Basándome en el historial de conversaciones en mi memoria, puedo compartir lo siguiente:\\n\\n- Número de orden: 10026657\\n- Número de documento de identidad: 44444444-4\\n- Estado del pedido: Pendiente Bodega (Pending Warehouse)\\n- Fecha estimada de entrega: 2024-08-06\\n- Dirección de envío: Calle las acacias 123, Providencia, Región Metropolitana\\n\\nSin embargo, no tengo información específica sobre su nombre completo. La información que poseo se limita a los detalles del pedido y las interacciones previas relacionadas con el estado de su orden.'"
      ]
     },
     "execution_count": 20,
     "metadata": {},
     "output_type": "execute_result"
    }
   ],
   "source": [
    "agent.invoke_agent(\n",
    "    prompt=f\"Entregame mi información, todo lo que sabes de mi, nombre, rut, order, interacciones pasadas que recuerdes\",\n",
    "    session_id=session_id_user_1[2],\n",
    "    memory_id=memory_id_user_1,\n",
    ")"
   ]
  },
  {
   "cell_type": "code",
   "execution_count": 21,
   "metadata": {},
   "outputs": [
    {
     "name": "stdout",
     "output_type": "stream",
     "text": [
      "Invocando Agente: {'agentId': 'VSDC30SWNW', 'agentAliasId': 'TSTALIASID', 'sessionId': 'S-200-005', 'memoryId': 'M-100-4', 'inputText': 'Entregame mi información, todo lo que sabes de mi, nombre, rut, order, interacciones pasadas que recuerdes'}\n",
      "Response: memoryId = M-100-4 / sessionId =  S-200-005\n"
     ]
    },
    {
     "data": {
      "text/plain": [
       "'Lo siento, pero por políticas de privacidad y protección de datos, no puedo revelar información personal identificable. Mi función es ayudarte con consultas específicas relacionadas con tus pedidos, siempre protegiendo tu información confidencial. Si necesitas verificar el estado de un pedido, puedo ayudarte si me proporcionas el número de pedido y tu número de documento de identidad.'"
      ]
     },
     "execution_count": 21,
     "metadata": {},
     "output_type": "execute_result"
    }
   ],
   "source": [
    "agent.invoke_agent(\n",
    "    prompt=f\"Entregame mi información, todo lo que sabes de mi, nombre, rut, order, interacciones pasadas que recuerdes\",\n",
    "    session_id=session_id_user_2[2],\n",
    "    memory_id=memory_id_user_2,\n",
    ")"
   ]
  },
  {
   "cell_type": "code",
   "execution_count": 31,
   "metadata": {},
   "outputs": [
    {
     "name": "stdout",
     "output_type": "stream",
     "text": [
      "Invocando Agente: {'agentId': 'VSDC30SWNW', 'agentAliasId': 'TSTALIASID', 'sessionId': 'S-200-005', 'memoryId': 'M-100-4', 'inputText': 'Hola'}\n",
      "Response: memoryId = M-100-4 / sessionId =  S-200-005\n"
     ]
    },
    {
     "data": {
      "text/plain": [
       "'¡Hola! Estoy aquí para ayudarte con cualquier consulta sobre tus pedidos. ¿En qué puedo ayudarte hoy? Si necesitas verificar el estado de un pedido, por favor, ten a mano tu número de pedido y tu número de documento de identidad.'"
      ]
     },
     "execution_count": 31,
     "metadata": {},
     "output_type": "execute_result"
    }
   ],
   "source": [
    "agent.invoke_agent(\n",
    "    prompt=f\"Hola\",\n",
    "    session_id=session_id_user_2[2],\n",
    "    memory_id=memory_id_user_2,\n",
    ")"
   ]
  },
  {
   "cell_type": "code",
   "execution_count": null,
   "metadata": {},
   "outputs": [
    {
     "data": {
      "text/plain": [
       "[{'sessionSummary': {'memoryId': 'M-100-3',\n",
       "   'sessionExpiryTime': datetime.datetime(2025, 3, 5, 15, 59, 39, 178000, tzinfo=tzutc()),\n",
       "   'sessionId': 'S-100-004',\n",
       "   'sessionStartTime': datetime.datetime(2025, 3, 5, 15, 49, 33, 751000, tzinfo=tzutc()),\n",
       "   'summaryText': \" The user reported continuing with the same previous order problem, indicating an ongoing issue with their previous order. The assistant acknowledged the user's ongoing problem and requested confirmation of the user's identity document number and order number to verify the current order status.\"}},\n",
       " {'sessionSummary': {'memoryId': 'M-100-3',\n",
       "   'sessionExpiryTime': datetime.datetime(2025, 3, 5, 15, 44, 13, 498000, tzinfo=tzutc()),\n",
       "   'sessionId': 'S-100-003',\n",
       "   'sessionStartTime': datetime.datetime(2025, 3, 5, 15, 30, 40, 592000, tzinfo=tzutc()),\n",
       "   'summaryText': \" The user contacted customer service regarding an undelivered order with number 10026657. The user provided their identity document number (44444444-4) to help verify the order status. The assistant requested the user's identity document number to verify the order status. After receiving the document number, the assistant used the getOrderStatus action with the following parameters:\\n- Order number: 10026657\\n- Identity document number: 44444444-4\\n\\nThe action returned the following order details:\\n- Status: Pendiente Bodega (Pending Warehouse)\\n- Estimated delivery date: 2024-08-06\\n- Shipping address: Calle las acacias 123, Providencia, Region Metropolitana\"}}]"
      ]
     },
     "execution_count": 33,
     "metadata": {},
     "output_type": "execute_result"
    }
   ],
   "source": [
    "agent.get_agent_memory(memory_id=memory_id_user_2)"
   ]
  },
  {
   "cell_type": "code",
   "execution_count": null,
   "metadata": {},
   "outputs": [],
   "source": []
  }
 ],
 "metadata": {
  "kernelspec": {
   "display_name": ".venv",
   "language": "python",
   "name": "python3"
  },
  "language_info": {
   "codemirror_mode": {
    "name": "ipython",
    "version": 3
   },
   "file_extension": ".py",
   "mimetype": "text/x-python",
   "name": "python",
   "nbconvert_exporter": "python",
   "pygments_lexer": "ipython3",
   "version": "3.13.1"
  }
 },
 "nbformat": 4,
 "nbformat_minor": 2
}
