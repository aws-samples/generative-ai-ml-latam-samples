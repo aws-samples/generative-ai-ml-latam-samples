{
 "cells": [
  {
   "cell_type": "markdown",
   "id": "7bd8aa47-f6d5-4c6f-a340-56a89947f7ac",
   "metadata": {},
   "source": [
    "# Creación de modelo con Amazon Rekognition\n",
    "\n",
    "Este script maneja el entrenamiento de modelos de Custom Labels en Amazon Rekognition, incluyendo la creación del proyecto y monitoreo del entrenamiento.\n",
    "\n",
    "## 1. Configuración Inicial\n",
    "Importación de bibliotecas necesarias y configuración del sistema."
   ]
  },
  {
   "cell_type": "code",
   "execution_count": 6,
   "id": "b9a35f46-eb5b-4a19-8503-46cad7a5ce46",
   "metadata": {},
   "outputs": [],
   "source": [
    "import boto3\n",
    "import logging\n",
    "from datetime import datetime\n",
    "\n",
    "# Configuración básica\n",
    "CONFIG = {\n",
    "    \"PROJECT_NAME\": \"ProyectoCustomLabels\", # Nombre del proyecto\n",
    "    \"AWS_REGION\": \"<REGION>\" # Región de AWS\n",
    "}"
   ]
  },
  {
   "cell_type": "markdown",
   "id": "4bf39f0c-e1f2-4f46-aa0a-35f676b91103",
   "metadata": {},
   "source": [
    "## 2. Creación de proyecto\n",
    "Crea un nuevo proyecto en Amazon Rekognition Custom Labels."
   ]
  },
  {
   "cell_type": "code",
   "execution_count": 7,
   "id": "50e2ae22-8dda-4aa6-97c4-c2adb06cc1cc",
   "metadata": {},
   "outputs": [],
   "source": [
    "def create_custom_labels_project():\n",
    "    try:\n",
    "        # Crear cliente de Rekognition\n",
    "        client = boto3.client('rekognition', region_name=CONFIG['AWS_REGION'])\n",
    "        \n",
    "        # Crear proyecto nuevo\n",
    "        response = client.create_project(\n",
    "            ProjectName=CONFIG['PROJECT_NAME']\n",
    "        )\n",
    "        \n",
    "        # Obtener y registrar el ARN del proyecto\n",
    "        project_arn = response['ProjectArn']\n",
    "        logger.info(f\"Proyecto creado exitosamente. ARN: {project_arn}\")\n",
    "        return project_arn\n",
    "        \n",
    "    except Exception as e:\n",
    "        logger.error(f\"Error al crear el proyecto: {str(e)}\")\n",
    "        raise\n",
    "\n",
    "if __name__ == \"__main__\":\n",
    "    project_arn = create_custom_labels_project()"
   ]
  },
  {
   "cell_type": "markdown",
   "id": "16a3b2f0-26cf-4a20-bfbe-6aa71ad68a48",
   "metadata": {},
   "source": [
    "## 3. Creación del dataset / Consola\n",
    "- Acceder a Amazon Rekognition > Custom Labels\n",
    "- Seleccionar el proyecto creado\n",
    "- Click en \"Create dataset\"\n",
    "- Click en \"Start with a single dataset\" en caso de que solo se tenga un set de imagenes, ya que Rekognition dividirá este set en 2 subsets, uno de prueba y otro de test.\n",
    "- Clic en \"Import images from S3 bucket\"\n",
    "- Especificar ubicación del bucket en la opción S3 URI\n",
    "- Finalizar con \"Create dataset\""
   ]
  },
  {
   "cell_type": "markdown",
   "id": "12df9cfd-8277-40fa-b8e2-922bc3dc0006",
   "metadata": {},
   "source": [
    "## 4. Proceso de etiquetado y entrenamiento / Consola\n",
    "- Iniciar con \"Start labeling\"\n",
    "- Click en \"Add labels\" y agrega la etiqueta deseada por ej: Logo\n",
    "- Para cada imagen:\n",
    "1. Dibujar bounding box alrededor del objeto\n",
    "2. Asignar etiqueta correspondiente\n",
    "3. Guardar y continuar\n",
    "- Click en \"Save changes\"\n",
    "- Click en \"Train model\"\n",
    "- Seleccionar el proyecto. Este codigo crea el proyecto llamado \"MiProyectoCustomLabels\"\n",
    "- Click en \"Train model\""
   ]
  },
  {
   "cell_type": "markdown",
   "id": "a32eb8c4-b8b2-4c6f-9729-a0778fb263b0",
   "metadata": {},
   "source": [
    "## 5. Encience tu modelo\n",
    "Inicia el modelo que entrenaste y dejalo listo para hacer inferencias."
   ]
  },
  {
   "cell_type": "code",
   "execution_count": null,
   "id": "e4adc58c-cdcd-4313-9df3-1323107366fe",
   "metadata": {},
   "outputs": [],
   "source": [
    "def start_model(project_arn, model_arn, version_name, min_inference_units):\n",
    "    try:\n",
    "        # Iniciar el modelo\n",
    "        print('Starting model: ' + model_arn)\n",
    "        response=client.start_project_version(ProjectVersionArn=model_arn, MinInferenceUnits=min_inference_units)\n",
    "        # Espere a que el modelo esté en estado de ejecución\n",
    "        project_version_running_waiter = client.get_waiter('project_version_running')\n",
    "        project_version_running_waiter.wait(ProjectArn=project_arn, VersionNames=[version_name])\n",
    "\n",
    "        # Obtener el estado de ejecución\n",
    "        describe_response=client.describe_project_versions(ProjectArn=project_arn,\n",
    "            VersionNames=[version_name])\n",
    "        for model in describe_response['ProjectVersionDescriptions']:\n",
    "            print(\"Status: \" + model['Status'])\n",
    "            print(\"Message: \" + model['StatusMessage']) \n",
    "    except Exception as e:\n",
    "        print(e)\n",
    "        \n",
    "    print('El modelo está listo...')\n",
    "    \n",
    "def main():\n",
    "    project_arn='<ARN_PROYECTO>' # ARN del proyecto\n",
    "    model_arn='<ARN_MODELO>' # ARN del modelo\n",
    "    min_inference_units=1 \n",
    "    version_name='ProyectoCustomLabels.2025-07-18T15.41.48' # Version del modelo\n",
    "    start_model(project_arn, model_arn, version_name, min_inference_units)\n",
    "\n",
    "if __name__ == \"__main__\":\n",
    "    main()"
   ]
  },
  {
   "cell_type": "markdown",
   "id": "c7037d73-3486-43ef-aa39-d183485305f6",
   "metadata": {},
   "source": [
    "## Notas Finales\n",
    "- Crea y gestiona proyectos de Amazon Rekognition Custom Labels\n",
    "- Implementa un sistema de creación de proyectos automatizado"
   ]
  }
 ],
 "metadata": {
  "kernelspec": {
   "display_name": "Python 3 (ipykernel)",
   "language": "python",
   "name": "python3"
  },
  "language_info": {
   "codemirror_mode": {
    "name": "ipython",
    "version": 3
   },
   "file_extension": ".py",
   "mimetype": "text/x-python",
   "name": "python",
   "nbconvert_exporter": "python",
   "pygments_lexer": "ipython3",
   "version": "3.11.9"
  }
 },
 "nbformat": 4,
 "nbformat_minor": 5
}
