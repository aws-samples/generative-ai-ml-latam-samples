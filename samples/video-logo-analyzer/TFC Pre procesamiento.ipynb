{
 "cells": [
  {
   "cell_type": "markdown",
   "id": "dd249094-7145-4056-96bc-034968adfcf6",
   "metadata": {},
   "source": [
    "# Preprocesamiento de Video con S3\n",
    "\n",
    "Este notebook procesa un video almacenado en S3, extrae frames y los guarda como imágenes individuales en otro bucket de S3.\n",
    "\n",
    "## 1. Configuración Inicial\n",
    "Importación de bibliotecas necesarias y configuración del cliente AWS S3."
   ]
  },
  {
   "cell_type": "code",
   "execution_count": null,
   "id": "73ed568f-5839-42e0-bd37-5965d43f258c",
   "metadata": {
    "jupyter": {
     "source_hidden": true
    }
   },
   "outputs": [],
   "source": [
    "# Instalar dependencias en terminal\n",
    "pip install opencv-python-headless\n",
    "pip install boto3\n",
    "pip install tqdm"
   ]
  },
  {
   "cell_type": "code",
   "execution_count": null,
   "id": "7edfcbf1-1347-43b6-8797-7afac973ec41",
   "metadata": {},
   "outputs": [],
   "source": [
    "# Importar las bibliotecas necesarias\n",
    "import boto3      # SDK de AWS para Python\n",
    "import cv2        # OpenCV para procesamiento de video\n",
    "import json       # Manejo de JSON\n",
    "import time       # Control de tiempo\n",
    "from tqdm import tqdm  # Barra de progreso\n",
    "import os        # Operaciones de sistema de archivos\n",
    "\n",
    "# Configuración general\n",
    "CONFIG = {\n",
    "    # Configuración de AWS S3\n",
    "    \"AWS_REGION\": \"<REGION>\",              # Región de AWS\n",
    "    \"INPUT_BUCKET\": \"<INPUT_BUCKET>\",         # Bucket con el video\n",
    "    \"OUTPUT_BUCKET\": \"<OUTPUT_BUCKET>\",       # Bucket para frames\n",
    "    \"VIDEO_KEY\": \"video.mp4\",              # Nombre del video en S3\n",
    "    \"OUTPUT_FOLDER\": \"frames/\",             # Carpeta destino para frames\n",
    "    \n",
    "    # Configuración de procesamiento\n",
    "    \"TEMP_DIR\": \"/tmp\",                     # Directorio temporal\n",
    "    \"FRAME_INTERVAL\": 1,                    # Intervalo entre frames (segundos)\n",
    "    \"FRAME_FORMAT\": \"jpg\",                  # Formato de imagen\n",
    "    \"FRAME_QUALITY\": 95,                    # Calidad de imagen (1-100)\n",
    "}\n",
    "\n",
    "# Inicializar cliente S3\n",
    "try:\n",
    "    s3 = boto3.client('s3', region_name=CONFIG[\"AWS_REGION\"])\n",
    "except Exception as e:\n",
    "    print(f\"Error al inicializar cliente S3: {str(e)}\")\n",
    "    raise"
   ]
  },
  {
   "cell_type": "markdown",
   "id": "650b34d2-1386-48f4-adff-9151500f53c5",
   "metadata": {},
   "source": [
    "## 2. Función de Carga a S3\n",
    "Definición de la función auxiliar para cargar archivos a S3. Esta función se utilizará para subir cada frame procesado."
   ]
  },
  {
   "cell_type": "code",
   "execution_count": null,
   "id": "0751078e-2903-4838-93b6-7d2b82fd11d6",
   "metadata": {},
   "outputs": [],
   "source": [
    "def upload_file(file_name: str, bucket: str, object_name: str=None):\n",
    "    \"\"\"\n",
    "    Sube un archivo a un bucket de Amazon S3.\n",
    "    \n",
    "    Args:\n",
    "        file_name (str): Ruta del archivo local\n",
    "        bucket (str): Nombre del bucket S3\n",
    "        object_name (str): Nombre del objeto en S3 (opcional)\n",
    "    \"\"\"\n",
    "    if object_name is None:\n",
    "        object_name = os.path.basename(file_name)\n",
    "    try:\n",
    "        s3.upload_file(file_name, bucket, object_name)\n",
    "        return True\n",
    "    except Exception as e:\n",
    "        print(f\"Error al subir archivo: {str(e)}\")\n",
    "        return False"
   ]
  },
  {
   "cell_type": "markdown",
   "id": "018e402a-b145-4426-bc09-33f5069eac49",
   "metadata": {},
   "source": [
    "## 3. Clase de Procesamiento de Video\n",
    "Clase para procesar videos desde S3 y extraer frames"
   ]
  },
  {
   "cell_type": "code",
   "execution_count": null,
   "id": "c5ae4123-0a85-4d6c-979a-818897cde01c",
   "metadata": {},
   "outputs": [],
   "source": [
    "def process_video():\n",
    "    \"\"\"\n",
    "    Procesa el video y extrae frames\n",
    "    \"\"\"\n",
    "    try:\n",
    "        # Preparar rutas\n",
    "        local_video_path = os.path.join(CONFIG[\"TEMP_DIR\"], CONFIG[\"VIDEO_KEY\"])\n",
    "        \n",
    "        # Descargar video\n",
    "        print(\"Descargando video...\")\n",
    "        s3.download_file(\n",
    "            CONFIG[\"INPUT_BUCKET\"],\n",
    "            CONFIG[\"VIDEO_KEY\"],\n",
    "            local_video_path\n",
    "        )\n",
    "        \n",
    "        # Abrir video\n",
    "        cap = cv2.VideoCapture(local_video_path)\n",
    "        fps = int(cap.get(cv2.CAP_PROP_FPS))\n",
    "        total_frames = int(cap.get(cv2.CAP_PROP_FRAME_COUNT))\n",
    "        frame_interval = fps * CONFIG[\"FRAME_INTERVAL\"]\n",
    "        \n",
    "        print(f\"FPS: {fps}\")\n",
    "        print(f\"Total frames: {total_frames}\")\n",
    "        \n",
    "        # Procesar frames\n",
    "        with tqdm(total=total_frames//frame_interval, desc=\"Procesando frames\") as pbar:\n",
    "            frame_count = 0\n",
    "            while cap.isOpened():\n",
    "                cap.set(cv2.CAP_PROP_POS_FRAMES, frame_count * frame_interval)\n",
    "                ret, frame = cap.read()\n",
    "                \n",
    "                if not ret:\n",
    "                    break\n",
    "                \n",
    "                # Calcular tiempo del frame\n",
    "                current_second = frame_count * CONFIG[\"FRAME_INTERVAL\"]\n",
    "                current_minute = current_second // 60\n",
    "                current_second %= 60\n",
    "                \n",
    "                # Crear nombre del frame\n",
    "                frame_name = f\"frame_{frame_count:04d}_min{current_minute:02d}_sec{current_second:02d}.{CONFIG['FRAME_FORMAT']}\"\n",
    "                local_frame_path = os.path.join(CONFIG[\"TEMP_DIR\"], frame_name)\n",
    "                \n",
    "                # Guardar frame\n",
    "                cv2.imwrite(\n",
    "                    local_frame_path, \n",
    "                    frame, \n",
    "                    [cv2.IMWRITE_JPEG_QUALITY, CONFIG[\"FRAME_QUALITY\"]]\n",
    "                )\n",
    "                \n",
    "                # Subir a S3\n",
    "                s3_path = os.path.join(CONFIG[\"OUTPUT_FOLDER\"], frame_name)\n",
    "                upload_file(local_frame_path, CONFIG[\"OUTPUT_BUCKET\"], s3_path)\n",
    "                \n",
    "                # Limpiar\n",
    "                os.remove(local_frame_path)\n",
    "                frame_count += 1\n",
    "                pbar.update(1)\n",
    "        \n",
    "        # Liberar recursos\n",
    "        cap.release()\n",
    "        os.remove(local_video_path)\n",
    "        return True\n",
    "        \n",
    "    except Exception as e:\n",
    "        print(f\"Error en el procesamiento: {str(e)}\")\n",
    "        return False"
   ]
  },
  {
   "cell_type": "markdown",
   "id": "532f69f7-b656-4478-b7da-83e8627c7c25",
   "metadata": {},
   "source": [
    "## 4. Función Principal"
   ]
  },
  {
   "cell_type": "code",
   "execution_count": null,
   "id": "51d22350-daa5-47d0-ab0d-5cdedf5ff656",
   "metadata": {},
   "outputs": [],
   "source": [
    "def main():\n",
    "    \"\"\"\n",
    "    Función principal\n",
    "    \"\"\"\n",
    "    start_time = time.time()\n",
    "    \n",
    "    success = process_video()\n",
    "    \n",
    "    # Calcular tiempo total\n",
    "    total_time = time.time() - start_time\n",
    "    \n",
    "    # Mostrar resultados\n",
    "    result = {\n",
    "        'statusCode': 200 if success else 500,\n",
    "        'body': 'Procesamiento completado' if success else 'Error en procesamiento',\n",
    "        'total_time_seconds': total_time\n",
    "    }\n",
    "    \n",
    "    print(json.dumps(result, indent=2))\n",
    "\n",
    "if __name__ == \"__main__\":\n",
    "    main()"
   ]
  }
 ],
 "metadata": {
  "kernelspec": {
   "display_name": "Python 3 (ipykernel)",
   "language": "python",
   "name": "python3"
  },
  "language_info": {
   "codemirror_mode": {
    "name": "ipython",
    "version": 3
   },
   "file_extension": ".py",
   "mimetype": "text/x-python",
   "name": "python",
   "nbconvert_exporter": "python",
   "pygments_lexer": "ipython3",
   "version": "3.11.9"
  }
 },
 "nbformat": 4,
 "nbformat_minor": 5
}
