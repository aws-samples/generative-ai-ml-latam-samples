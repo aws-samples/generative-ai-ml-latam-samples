{
 "cells": [
  {
   "cell_type": "markdown",
   "id": "a75d57bf-3dad-4720-ab30-3ee5c0d776e8",
   "metadata": {
    "tags": []
   },
   "source": [
    "# Generation of images for marketing campaigns with Amazon Nova models"
   ]
  },
  {
   "cell_type": "markdown",
   "id": "694584c4-379c-48f2-a879-c2356c048e8f",
   "metadata": {
    "execution": {
     "iopub.execute_input": "2025-01-09T13:55:36.179038Z",
     "iopub.status.busy": "2025-01-09T13:55:36.178426Z",
     "iopub.status.idle": "2025-01-09T13:55:36.190587Z",
     "shell.execute_reply": "2025-01-09T13:55:36.188872Z",
     "shell.execute_reply.started": "2025-01-09T13:55:36.179012Z"
    }
   },
   "source": [
    "In this notebook we will demonstrate how to use the [Amazon Nova](https://aws.amazon.com/ai/generative-ai/nova/) models for the creation of images for marketing campaigns."
   ]
  },
  {
   "cell_type": "markdown",
   "id": "c0e753bb-ed52-494b-86b5-d950d52a8fa6",
   "metadata": {},
   "source": [
    "To execute the cells in this notebook you need to enable access to the following models on Bedrock:\n",
    "\n",
    "* Amazon Nova Pro\n",
    "* Amazon Nova Canvas\n",
    "\n",
    "see [Add or remove access to Amazon Bedrock foundation models](https://docs.aws.amazon.com/bedrock/latest/userguide/model-access-modify.html) to manage the access to models in Amazon Bedrock."
   ]
  },
  {
   "cell_type": "markdown",
   "id": "aba09b79-a15d-4e85-ae91-f934b11a986a",
   "metadata": {
    "tags": []
   },
   "source": [
    "In this notebook we will explore how to generate images to accompany your ads using generative AI. For this demo we will be generating images for **advertising sporting products (balls, baseball bats, swimsuits, etc)**"
   ]
  },
  {
   "cell_type": "code",
   "execution_count": null,
   "id": "b690a6a2-010e-44d8-8709-ebb462d95686",
   "metadata": {
    "tags": []
   },
   "outputs": [],
   "source": [
    "!pip install -U langchain-aws langchain-core langchain"
   ]
  },
  {
   "cell_type": "code",
   "execution_count": null,
   "id": "b88aefac-dbff-4254-8375-bfc0d03c0497",
   "metadata": {
    "tags": []
   },
   "outputs": [],
   "source": [
    "import boto3\n",
    "import random\n",
    "import os\n",
    "import json\n",
    "import io\n",
    "import time\n",
    "import datetime\n",
    "import base64\n",
    "import langchain_core\n",
    "\n",
    "from PIL import Image\n",
    "from IPython.display import Image as DisplayImage\n",
    "\n",
    "from langchain_aws import ChatBedrock\n",
    "\n",
    "from prompts.create_image_prompt_selector import get_meta_prompt_prompt_selector\n",
    "from prompts.create_ad_concept_prompt_selector import get_ad_concept_prompt_selector\n",
    "from structured_output.meta_prompt import MetaPrompt\n",
    "from structured_output.ad_concept import AdConcept\n",
    "\n",
    "from botocore.exceptions import ClientError\n",
    "from botocore.config import Config"
   ]
  },
  {
   "cell_type": "code",
   "execution_count": null,
   "id": "554c92f7-865f-47b4-a0ba-bd58d13e44cb",
   "metadata": {
    "tags": []
   },
   "outputs": [],
   "source": [
    "langchain_core.globals.set_debug(True) # Set to True for enabling debugging stack traces"
   ]
  },
  {
   "cell_type": "code",
   "execution_count": null,
   "id": "76717d43-a22f-49a6-b03e-4b8c4a04d26e",
   "metadata": {},
   "outputs": [],
   "source": [
    "bedrock_runtime = boto3.client(\n",
    "    service_name=\"bedrock-runtime\",\n",
    "    region_name=\"us-east-1\",\n",
    "    config=Config(retries={'max_attempts': 20})\n",
    ")"
   ]
  },
  {
   "cell_type": "markdown",
   "id": "0b48d22e-bb69-4cd7-8380-9cc8a6da4197",
   "metadata": {},
   "source": [
    "## Generate the campaign's concept with Amazon Nova Pro"
   ]
  },
  {
   "cell_type": "markdown",
   "id": "08ed21d9-62f5-421e-9d72-92f3e1b6dccc",
   "metadata": {},
   "source": [
    "As a first step we will generate a concept for our marketing campaign. We will use **Amazon Nova Pro** model to help us generate the campaign's concept based on the following input data:\n",
    "\n",
    "* Sports category\n",
    "* Sports subcategory\n",
    "* Gender\n",
    "* Age\n",
    "\n",
    "therefore we will be generating campaigns based on an audience profile and the product we want to advertise"
   ]
  },
  {
   "cell_type": "markdown",
   "id": "1490cc87-b563-4baf-9e60-b094fc761552",
   "metadata": {},
   "source": [
    "The choice of the Nova Pro model is for the reason that we need a model to perform a multi-step reasoning task using chain-of-thought and we also require it to be able to use tools (for structuring the outputs)"
   ]
  },
  {
   "cell_type": "markdown",
   "id": "1bea473e-1b69-4386-b471-2bfa2a6858b6",
   "metadata": {},
   "source": [
    "### Categories and audience"
   ]
  },
  {
   "cell_type": "code",
   "execution_count": null,
   "id": "1188e0d1-0bf4-41d2-8b1c-e23b19e86bee",
   "metadata": {
    "tags": []
   },
   "outputs": [],
   "source": [
    "categories = {\n",
    "    \"sports\":[\"soccer\", \"basketball\", \"swimming\", \"boxing\", \"Weightlifting\"],\n",
    "    \"electronics\": [\"television sets\", \"gaming consoles\", \"audio consoles\", \"smart home\"],\n",
    "    \"furniture\": [\"bedrooms\", \"dinning sets\", \"sofas and armchairs\", \"tables and chairs\"],\n",
    "    \"toys\": [\"action figures\", \"board games\", \"building sets\", \"collectibles\", \"card games\", \"puzzles\"],\n",
    "    \"clothing\": [\"swimswear\", \"pajamas\", \"jackets\", \"shirts\", \"pants\"]\n",
    "}\n",
    "\n",
    "category_keys = list(categories.keys())\n",
    "\n",
    "audience_gender = [\"male\", \"female\"]\n",
    "age_buckets = [(0,4), (5,9), (10,15), (15, 22), (22, 30), (30, 40), (40, 50), (50, 65), (65, 75), (75, 100)]"
   ]
  },
  {
   "cell_type": "code",
   "execution_count": null,
   "id": "11b701be-21b8-4ae6-8121-605ed5633831",
   "metadata": {
    "tags": []
   },
   "outputs": [],
   "source": [
    "category = category_keys[random.randint(0, len(category_keys)-1)]\n",
    "subcategories = categories[category]\n",
    "subcategory = subcategories[random.randint(0, len(subcategories)-1)]\n",
    "gender = audience_gender[random.randint(0,1)]\n",
    "age_range = age_buckets[random.randint(0, len(age_buckets)-1)]\n",
    "\n",
    "print(f\"Category: {category}\")\n",
    "print(f\"Subcategory: {subcategory}\")\n",
    "print(f\"Gender: {gender}\")\n",
    "print(f\"Age: between {age_range[0]} and {age_range[1]} years old\")"
   ]
  },
  {
   "cell_type": "markdown",
   "id": "9e612f79-372b-46df-ae20-2712f419f317",
   "metadata": {
    "tags": []
   },
   "source": [
    "## Create the concept for the campaign using LLMs"
   ]
  },
  {
   "cell_type": "markdown",
   "id": "03037966-86c2-4b55-a6d2-fffeb68dc09c",
   "metadata": {},
   "source": [
    "First, given the audience profile and the product to advertise we will generate the general concept of the marketing campaign using the Nova Micro model. We ask the model to generate the following:\n",
    "\n",
    "* reasoning: The model's reasoning for proposing that campaigns concept\n",
    "* concept: The overall campaign's concept\n",
    "* visual_concept: The visual concept of the campaign\n",
    "* image: The description of the image for the campaign based on the generated visual concept\n",
    "\n",
    "For this task we make use of [prompt templates](https://python.langchain.com/docs/concepts/prompt_templates/) and [structured_output](https://python.langchain.com/docs/concepts/structured_outputs/) in langchain"
   ]
  },
  {
   "cell_type": "code",
   "execution_count": null,
   "id": "517d0d2c-a18f-4865-b45e-a64f31dddc74",
   "metadata": {},
   "outputs": [],
   "source": [
    "CAMPAIGN_CONCEPT_GENERATION_MODEL_PARAMETERS = {\n",
    "    \"max_tokens\": 3000,\n",
    "    \"temperature\": 0.7,\n",
    "    \"top_k\": 40,\n",
    "}\n",
    "\n",
    "NOVA_MICRO_MODEL_ID = \"us.amazon.nova-pro-v1:0\" # Cross Region Inference profile"
   ]
  },
  {
   "cell_type": "code",
   "execution_count": null,
   "id": "0343d06b-b505-4ad0-b54c-bf1478762aa4",
   "metadata": {},
   "outputs": [],
   "source": [
    "bedrock_llm_nova = ChatBedrock(\n",
    "    model_id=NOVA_MICRO_MODEL_ID,\n",
    "    model_kwargs=CAMPAIGN_CONCEPT_GENERATION_MODEL_PARAMETERS,\n",
    "    client=bedrock_runtime,\n",
    ") # Langchain object to interact with NOVA models through Bedrock"
   ]
  },
  {
   "cell_type": "code",
   "execution_count": null,
   "id": "26a24009-088f-44cb-acad-0e2a46fb0d07",
   "metadata": {
    "tags": []
   },
   "outputs": [],
   "source": [
    "AD_CONCEPT_PROMPT_SELECTOR = get_ad_concept_prompt_selector(\"en\") # Amazon Nova Canvas officially only supports english prompts"
   ]
  },
  {
   "cell_type": "code",
   "execution_count": null,
   "id": "e7319bc4-dc22-4985-8265-0e3d69c314ea",
   "metadata": {
    "tags": []
   },
   "outputs": [],
   "source": [
    "nova_ad_concept_prompt_template = AD_CONCEPT_PROMPT_SELECTOR.get_prompt(NOVA_MICRO_MODEL_ID)\n",
    "structured_nova_ad_concept = bedrock_llm_nova.with_structured_output(AdConcept)"
   ]
  },
  {
   "cell_type": "code",
   "execution_count": null,
   "id": "ebbc27f0-4ee1-4e16-92d7-0b42ee436fac",
   "metadata": {
    "tags": []
   },
   "outputs": [],
   "source": [
    "nova_ad_concept_prompt_template.format(\n",
    "    products=f\"Category: {category}\\nSubcategory: {subcategory}\",\n",
    "    audience=f\"Gender: {gender}\\nAge range: between {age_range[0]} and {age_range[1]}\"\n",
    ")"
   ]
  },
  {
   "cell_type": "code",
   "execution_count": null,
   "id": "1d183267-c5cd-482a-8e27-051cf8bda604",
   "metadata": {
    "tags": []
   },
   "outputs": [],
   "source": [
    "langchain_ad_concept_llm = nova_ad_concept_prompt_template | structured_nova_ad_concept"
   ]
  },
  {
   "cell_type": "code",
   "execution_count": null,
   "id": "1fe2edba-3df2-4443-b798-8c6d463d5d3d",
   "metadata": {
    "tags": []
   },
   "outputs": [],
   "source": [
    "ad_concept = langchain_ad_concept_llm.invoke(\n",
    "    {\n",
    "        \"products\": f\"Category: {category}\\nSubcategory: {subcategory}\",\n",
    "        \"audience\": f\"Gender: {gender}\\nAge range: between {age_range[0]} and {age_range[1]}\"\n",
    "    }\n",
    ")"
   ]
  },
  {
   "cell_type": "code",
   "execution_count": null,
   "id": "a49b735b-948e-4398-b957-18d949d2d826",
   "metadata": {
    "tags": []
   },
   "outputs": [],
   "source": [
    "ad_concept"
   ]
  },
  {
   "cell_type": "code",
   "execution_count": null,
   "id": "8940ea76-9e1e-48a9-8317-372362557aaf",
   "metadata": {
    "tags": []
   },
   "outputs": [],
   "source": [
    "ad_concept.campaign_concept"
   ]
  },
  {
   "cell_type": "code",
   "execution_count": null,
   "id": "4510563a-db5f-4af2-aea3-a5f0266ef2ac",
   "metadata": {
    "tags": []
   },
   "outputs": [],
   "source": [
    "ad_concept.visual_concept"
   ]
  },
  {
   "cell_type": "code",
   "execution_count": null,
   "id": "e4f51974-7716-4ca2-86e9-9afe47c180c1",
   "metadata": {
    "tags": []
   },
   "outputs": [],
   "source": [
    "ad_concept.image_description"
   ]
  },
  {
   "cell_type": "markdown",
   "id": "d624308f-f985-4aea-941f-d64e115dd39f",
   "metadata": {},
   "source": [
    "## Meta-prompting"
   ]
  },
  {
   "cell_type": "markdown",
   "id": "62e22dcf-6461-439f-8837-9f9530561d12",
   "metadata": {},
   "source": [
    "Text-to-image foundation models require well crafted prompts to generate accurate images. We will leverage Amazon Nova Pro to create prompts for our Amazon Canvas model, this is a technique called [meta-prompting](https://www.prompthub.us/blog/a-complete-guide-to-meta-prompting)."
   ]
  },
  {
   "cell_type": "code",
   "execution_count": null,
   "id": "c4399174-c929-44d0-ab02-ca5d1fca93ab",
   "metadata": {},
   "outputs": [],
   "source": [
    "IMAGE_PROMPT_GENERATION_MODEL_PARAMETERS = {\n",
    "    \"max_tokens\": 1500,\n",
    "    \"temperature\": 0.7,\n",
    "    \"top_k\": 40,\n",
    "}\n",
    "\n",
    "NOVA_MICRO_MODEL_ID = \"us.amazon.nova-pro-v1:0\" # Cross Region Inference profile"
   ]
  },
  {
   "cell_type": "code",
   "execution_count": null,
   "id": "4e5204b6-bbe8-419f-a7cf-5ada783e960f",
   "metadata": {},
   "outputs": [],
   "source": [
    "bedrock_llm_nova_prompt_gen = ChatBedrock(\n",
    "    model_id=NOVA_MICRO_MODEL_ID,\n",
    "    model_kwargs=IMAGE_PROMPT_GENERATION_MODEL_PARAMETERS,\n",
    "    client=bedrock_runtime,\n",
    ") # Langchain object to interact with NOVA models through Bedrock"
   ]
  },
  {
   "cell_type": "code",
   "execution_count": null,
   "id": "6fd9e2b2-74b0-4ad6-b494-1f92e9bc57d1",
   "metadata": {},
   "outputs": [],
   "source": [
    "META_PROMPT_PROMPT_SELECTOR = get_meta_prompt_prompt_selector(\"en\") # Amazon Nova Canvas officially only supports english prompts"
   ]
  },
  {
   "cell_type": "code",
   "execution_count": null,
   "id": "5f5c687a-35d3-4814-98fe-8ccc74a99aa5",
   "metadata": {
    "tags": []
   },
   "outputs": [],
   "source": [
    "nova_img_meta_prompt_prompt_template = META_PROMPT_PROMPT_SELECTOR.get_prompt(NOVA_MICRO_MODEL_ID)\n",
    "structured_nova_meta_prompt = bedrock_llm_nova_prompt_gen.with_structured_output(MetaPrompt)"
   ]
  },
  {
   "cell_type": "code",
   "execution_count": null,
   "id": "b92df61c-553c-4905-aacf-5431da183409",
   "metadata": {
    "tags": []
   },
   "outputs": [],
   "source": [
    "nova_img_meta_prompt_prompt_template.format(text=ad_concept.image_description)  # Create meta-prompt from image description"
   ]
  },
  {
   "cell_type": "code",
   "execution_count": null,
   "id": "4f07dda7-89c3-422c-9374-db4dac1c5f68",
   "metadata": {},
   "outputs": [],
   "source": [
    "meta_prompt_llm = nova_img_meta_prompt_prompt_template | structured_nova_meta_prompt"
   ]
  },
  {
   "cell_type": "code",
   "execution_count": null,
   "id": "1eabbfb6-f84a-49d5-826f-39aaf13637ef",
   "metadata": {
    "tags": []
   },
   "outputs": [],
   "source": [
    "text_to_image_meta_prompt = meta_prompt_llm.invoke({\"text\": ad_concept.image_description})"
   ]
  },
  {
   "cell_type": "code",
   "execution_count": null,
   "id": "be3c8c1c-2177-4cf5-b840-5bf69a9f822f",
   "metadata": {
    "tags": []
   },
   "outputs": [],
   "source": [
    "text_to_image_meta_prompt"
   ]
  },
  {
   "cell_type": "code",
   "execution_count": null,
   "id": "bbee8511-fe22-4e44-8687-630582778a07",
   "metadata": {
    "tags": []
   },
   "outputs": [],
   "source": [
    "text_to_image_meta_prompt.prompt"
   ]
  },
  {
   "cell_type": "markdown",
   "id": "82ebae23-45fd-44f5-b319-bc2d4b473e73",
   "metadata": {},
   "source": [
    "## Image generation with Amazon Nova Canvas"
   ]
  },
  {
   "cell_type": "markdown",
   "id": "885ec9c8-5b46-4cd6-97cc-fd1937a6417c",
   "metadata": {},
   "source": [
    "We have the following data to create our campaign's images"
   ]
  },
  {
   "cell_type": "code",
   "execution_count": null,
   "id": "00fe6920-493d-4eb1-8542-1d993b9520df",
   "metadata": {},
   "outputs": [],
   "source": [
    "print(f\"Category: {category}\")\n",
    "print(f\"Subcategory: {subcategory}\")\n",
    "print(f\"Gender: {gender}\")\n",
    "print(f\"Age: between {age_range[0]} and {age_range[1]} years old\")"
   ]
  },
  {
   "cell_type": "markdown",
   "id": "71c49612-109c-43e2-b6ca-5537020b8f3f",
   "metadata": {},
   "source": [
    "For which Nova Pro generated the following **campaign concept**"
   ]
  },
  {
   "cell_type": "code",
   "execution_count": null,
   "id": "54f92f61-ebcf-487e-9ed1-bca8d4696c1c",
   "metadata": {},
   "outputs": [],
   "source": [
    "ad_concept.campaign_concept"
   ]
  },
  {
   "cell_type": "markdown",
   "id": "762fa750-982f-4e46-9802-8b3d9130ac1a",
   "metadata": {},
   "source": [
    "**visual concept**"
   ]
  },
  {
   "cell_type": "code",
   "execution_count": null,
   "id": "eaff7a7c-81fb-4815-8a74-172009e15deb",
   "metadata": {},
   "outputs": [],
   "source": [
    "ad_concept.visual_concept"
   ]
  },
  {
   "cell_type": "markdown",
   "id": "af59e7b0-05bd-42c9-9953-ecfc14208480",
   "metadata": {},
   "source": [
    "and **image description**"
   ]
  },
  {
   "cell_type": "code",
   "execution_count": null,
   "id": "19d18d0b-787f-4f50-940b-37fbcd5c4100",
   "metadata": {},
   "outputs": [],
   "source": [
    "ad_concept.image_description"
   ]
  },
  {
   "cell_type": "markdown",
   "id": "e33b620e-d629-4069-ac03-a4a25e19c0cc",
   "metadata": {},
   "source": [
    "Then, from the image description and using meta-prompting we have created the following **image generation prompt for Nova Canvas**:"
   ]
  },
  {
   "cell_type": "code",
   "execution_count": null,
   "id": "e2a00bf9-f25b-4f6d-babe-e29b771a8b05",
   "metadata": {},
   "outputs": [],
   "source": [
    "text_to_image_meta_prompt.prompt"
   ]
  },
  {
   "cell_type": "markdown",
   "id": "04d4f93c-26e5-4368-8f3e-5ffb5eb9a592",
   "metadata": {},
   "source": [
    "### Generate images using Amazon Nova Canvas"
   ]
  },
  {
   "cell_type": "code",
   "execution_count": null,
   "id": "ddcc829d-9b78-44f7-bc10-963cbd0123e0",
   "metadata": {
    "tags": []
   },
   "outputs": [],
   "source": [
    "random_seed = random.randint(0, 214783647)"
   ]
  },
  {
   "cell_type": "code",
   "execution_count": null,
   "id": "d12e0f4b-711c-4801-bdef-89197b5a127a",
   "metadata": {},
   "outputs": [],
   "source": [
    "# Create payload\n",
    "body = json.dumps(\n",
    "    {\n",
    "        \"taskType\": \"TEXT_IMAGE\",\n",
    "        \"textToImageParams\": {\n",
    "            \"text\": text_to_image_meta_prompt.prompt,\n",
    "            #\"negativeText\": negative_prompts   # Optional\n",
    "        },\n",
    "        \"imageGenerationConfig\": {\n",
    "            \"numberOfImages\": 1,   # Range: 1 to 5 \n",
    "            \"quality\": \"standard\",  # Options: standard or premium\n",
    "            \"height\": 720,        # Supported height list in the docs \n",
    "            \"width\": 1280,         # Supported width list in the docs\n",
    "            \"cfgScale\": 7.5,       # Range: 1.0 (exclusive) to 10.0\n",
    "            \"seed\": random_seed             # Range: 0 to 214783647\n",
    "        }\n",
    "    }\n",
    ")"
   ]
  },
  {
   "cell_type": "code",
   "execution_count": null,
   "id": "e676e2e3-88b0-4551-b8e2-6caa6146d00f",
   "metadata": {
    "tags": []
   },
   "outputs": [],
   "source": [
    "# Make model request\n",
    "start_time = time.time()\n",
    "response = bedrock_runtime.invoke_model(\n",
    "    body=body,\n",
    "    modelId=\"amazon.nova-canvas-v1:0\",\n",
    "    accept=\"application/json\", \n",
    "    contentType=\"application/json\"\n",
    ")\n",
    "time_canvas = time.time() - start_time\n",
    "\n",
    "# Process the image\n",
    "response_body = json.loads(response.get(\"body\").read())\n",
    "\n",
    "print(f\"Generation latency: {time_canvas}\")"
   ]
  },
  {
   "cell_type": "markdown",
   "id": "70e4e6f9-5372-45b5-853d-7842fe5ef732",
   "metadata": {},
   "source": [
    "### Save and visualize generated image"
   ]
  },
  {
   "cell_type": "code",
   "execution_count": null,
   "id": "4f62fe97-aae6-494c-b0ca-51215a399151",
   "metadata": {},
   "outputs": [],
   "source": [
    "# Decode + save\n",
    "\n",
    "folder_id = datetime.datetime.now().microsecond\n",
    "\n",
    "for i, img_b64 in zip(range(len(response_body[\"images\"])), response_body[\"images\"]):\n",
    "    \n",
    "    os.makedirs(f\"./images/canvas/{folder_id}\", exist_ok=True)\n",
    "    \n",
    "    img = Image.open(\n",
    "        io.BytesIO(\n",
    "            base64.decodebytes(\n",
    "                bytes(img_b64, \"utf-8\")\n",
    "            )\n",
    "        )\n",
    "    )\n",
    "    img.save(f\"./images/canvas/{folder_id}/image_{i}.png\")"
   ]
  },
  {
   "cell_type": "code",
   "execution_count": null,
   "id": "fd7adecb-aec2-4c7d-91e6-b877e5a42e87",
   "metadata": {},
   "outputs": [],
   "source": [
    "DisplayImage(filename=f'./images/canvas/{folder_id}/image_0.png')"
   ]
  },
  {
   "cell_type": "markdown",
   "id": "4066b758-848a-490a-9851-148f2427ada1",
   "metadata": {},
   "source": [
    "## Exploring other Nova Canvas features"
   ]
  },
  {
   "cell_type": "markdown",
   "id": "101e787a-11dd-4834-b992-1b79cd5b224c",
   "metadata": {},
   "source": [
    "For the final section of this notebook we will explore other Canvas features such as:\n",
    "\n",
    "* Outpainting\n",
    "* Inpainting\n",
    "* Background removal\n",
    "* Image conditioning\n",
    "\n",
    "for this demos we will use previously generated images under the [./images/canvas](./images/canvas) folder"
   ]
  },
  {
   "cell_type": "markdown",
   "id": "f02012ba-ec29-4e76-b572-6076d29d4f2e",
   "metadata": {},
   "source": [
    "## Loading the image"
   ]
  },
  {
   "cell_type": "code",
   "execution_count": null,
   "id": "7ebe215e-c2b2-4254-97d2-40a8442d2fc2",
   "metadata": {},
   "outputs": [],
   "source": [
    "image_url = f'./images/canvas/443875/image_0.png'"
   ]
  },
  {
   "cell_type": "code",
   "execution_count": null,
   "id": "85ffa905-c6ec-496e-b5d8-f72c8b18af07",
   "metadata": {},
   "outputs": [],
   "source": [
    "DisplayImage(filename=image_url)"
   ]
  },
  {
   "cell_type": "markdown",
   "id": "af256963-70bf-4663-bbeb-e070745669e9",
   "metadata": {},
   "source": [
    "Since all of the additional features we will explore require the image loaded as a Base64 string we will first load out image into memory"
   ]
  },
  {
   "cell_type": "code",
   "execution_count": null,
   "id": "c1e72b54-e6bc-4132-beed-4724b7d5d951",
   "metadata": {},
   "outputs": [],
   "source": [
    "import base64\n",
    "\n",
    "with open(image_url, \"rb\") as image_file:\n",
    "    base64_image = base64.b64encode(image_file.read()).decode()"
   ]
  },
  {
   "cell_type": "markdown",
   "id": "323e0fd6-2469-4715-ba5f-81c70d02a5f5",
   "metadata": {},
   "source": [
    "### Background removal"
   ]
  },
  {
   "cell_type": "markdown",
   "id": "08797db6-13aa-45c0-9cfb-80796533c54a",
   "metadata": {},
   "source": [
    "Automatically identifies multiple objects in the input image and removes the background. The output image has a transparent background."
   ]
  },
  {
   "cell_type": "code",
   "execution_count": null,
   "id": "ef1e286a-9290-4851-b331-f5fe5fa9e5ab",
   "metadata": {},
   "outputs": [],
   "source": [
    "# Create payload\n",
    "body = json.dumps(\n",
    "    {\n",
    "        \"taskType\": \"BACKGROUND_REMOVAL\",\n",
    "        \"backgroundRemovalParams\": {\n",
    "            \"image\": base64_image\n",
    "        }\n",
    "    }\n",
    ")\n",
    "\n",
    "# Make model request\n",
    "start_time = time.time()\n",
    "response = bedrock_runtime.invoke_model(\n",
    "    body=body,\n",
    "    modelId=\"amazon.nova-canvas-v1:0\",\n",
    "    accept=\"application/json\", \n",
    "    contentType=\"application/json\"\n",
    ")\n",
    "time_canvas = time.time() - start_time\n",
    "\n",
    "# Process the image\n",
    "response_body = json.loads(response.get(\"body\").read())\n",
    "\n",
    "print(f\"Backgtound removal latency: {time_canvas}\")"
   ]
  },
  {
   "cell_type": "code",
   "execution_count": null,
   "id": "16c62a2f-2b7a-49ca-a0a1-fa29205d0fc4",
   "metadata": {},
   "outputs": [],
   "source": [
    "img = Image.open(\n",
    "    io.BytesIO(\n",
    "        base64.decodebytes(\n",
    "            bytes(response_body[\"images\"][0], \"utf-8\")\n",
    "        )\n",
    "    )\n",
    ")\n",
    "\n",
    "img.show()"
   ]
  },
  {
   "cell_type": "markdown",
   "id": "17e35c9a-5c07-4120-b859-812a4d7af3be",
   "metadata": {},
   "source": [
    "### Inpainting"
   ]
  },
  {
   "cell_type": "markdown",
   "id": "f4852bc4-b328-4e84-9246-85a113d75964",
   "metadata": {},
   "source": [
    "Uses an image and a segmentation mask as input (either from the user or estimated by the model) and reconstructs the region within the mask. Use inpainting to remove masked elements and replace them with background pixels."
   ]
  },
  {
   "cell_type": "code",
   "execution_count": null,
   "id": "23cc0cd4-0468-41ec-ad98-9b91308a5c49",
   "metadata": {},
   "outputs": [],
   "source": [
    "# Create payload\n",
    "body = json.dumps(\n",
    "    {\n",
    "        \"taskType\": \"INPAINTING\",\n",
    "        \"inPaintingParams\": {\n",
    "            \"image\": base64_image,\n",
    "            \"maskPrompt\": \"elderly woman\",\n",
    "            \"text\": \"elderly athletic man wearing box gloves\",\n",
    "            \"negativeText\": \"too much light\"\n",
    "        },\n",
    "        \"imageGenerationConfig\": {\n",
    "            \"numberOfImages\": 1,   # Range: 1 to 5 \n",
    "            \"quality\": \"standard\",  # Options: standard or premium\n",
    "            \"height\": 768,        # Supported height list in the docs \n",
    "            \"width\": 1280,         # Supported width list in the docs\n",
    "            \"cfgScale\": 7.5,       # Range: 1.0 (exclusive) to 10.0\n",
    "            \"seed\": random_seed             # Range: 0 to 214783647\n",
    "        }\n",
    "    }\n",
    ")\n",
    "\n",
    "# Make model request\n",
    "start_time = time.time()\n",
    "response = bedrock_runtime.invoke_model(\n",
    "    body=body,\n",
    "    modelId=\"amazon.nova-canvas-v1:0\",\n",
    "    accept=\"application/json\", \n",
    "    contentType=\"application/json\"\n",
    ")\n",
    "time_canvas = time.time() - start_time\n",
    "\n",
    "# Process the image\n",
    "response_body = json.loads(response.get(\"body\").read())\n",
    "\n",
    "print(f\"Inpainting latency: {time_canvas}\")"
   ]
  },
  {
   "cell_type": "code",
   "execution_count": null,
   "id": "12da6ae1-945f-4f7f-9007-fa57f744c68a",
   "metadata": {},
   "outputs": [],
   "source": [
    "img = Image.open(\n",
    "    io.BytesIO(\n",
    "        base64.decodebytes(\n",
    "            bytes(response_body[\"images\"][0], \"utf-8\")\n",
    "        )\n",
    "    )\n",
    ")\n",
    "\n",
    "img.show()"
   ]
  },
  {
   "cell_type": "markdown",
   "id": "be82f5fc-f22a-48fd-a98e-d369b871b78d",
   "metadata": {
    "execution": {
     "iopub.execute_input": "2025-01-10T05:47:31.497091Z",
     "iopub.status.busy": "2025-01-10T05:47:31.496482Z",
     "iopub.status.idle": "2025-01-10T05:47:31.500395Z",
     "shell.execute_reply": "2025-01-10T05:47:31.499382Z",
     "shell.execute_reply.started": "2025-01-10T05:47:31.497066Z"
    }
   },
   "source": [
    "### Outpainting"
   ]
  },
  {
   "cell_type": "markdown",
   "id": "9c4624ad-da04-400e-a2d1-9788f96828ce",
   "metadata": {},
   "source": [
    "Uses an image and a segmentation mask as input (either from the user or estimated by the model) and generates new pixels that seamlessly extend the region. Use precise outpainting to preserve the pixels of the masked image when extending the image to the boundaries. Use default outpainting to extend the pixels of the masked image to the image boundaries based on segmentation settings."
   ]
  },
  {
   "cell_type": "code",
   "execution_count": null,
   "id": "d0d49180-5185-41ce-a728-9e71fef3ee1b",
   "metadata": {},
   "outputs": [],
   "source": [
    "# Create payload\n",
    "body = json.dumps(\n",
    "    {\n",
    "        \"taskType\": \"OUTPAINTING\",\n",
    "        \"outPaintingParams\": {\n",
    "            \"image\": base64_image,\n",
    "            \"maskPrompt\": \"elderly woman hitting boxsack\",\n",
    "            \"text\": \"another person wearing box gloves fighting the woman in a box ring. show the face of the other person\",\n",
    "            \"negativeText\": \"too much light\",\n",
    "            \"outPaintingMode\": \"DEFAULT\",\n",
    "        },\n",
    "        \"imageGenerationConfig\": {\n",
    "            \"numberOfImages\": 1,   # Range: 1 to 5 \n",
    "            \"quality\": \"standard\",  # Options: standard or premium\n",
    "            \"height\": 720,        # Supported height list in the docs \n",
    "            \"width\": 1280,         # Supported width list in the docs\n",
    "            \"cfgScale\": 7.5,       # Range: 1.0 (exclusive) to 10.0\n",
    "            \"seed\": random_seed             # Range: 0 to 214783647\n",
    "        }\n",
    "    }\n",
    ")\n",
    "\n",
    "# Make model request\n",
    "start_time = time.time()\n",
    "response = bedrock_runtime.invoke_model(\n",
    "    body=body,\n",
    "    modelId=\"amazon.nova-canvas-v1:0\",\n",
    "    accept=\"application/json\", \n",
    "    contentType=\"application/json\"\n",
    ")\n",
    "time_canvas = time.time() - start_time\n",
    "\n",
    "# Process the image\n",
    "response_body = json.loads(response.get(\"body\").read())\n",
    "\n",
    "print(f\"Outpainting latency: {time_canvas}\")"
   ]
  },
  {
   "cell_type": "code",
   "execution_count": null,
   "id": "3de62665-961c-4f93-87cd-d5a44a3ac65e",
   "metadata": {},
   "outputs": [],
   "source": [
    "img = Image.open(\n",
    "    io.BytesIO(\n",
    "        base64.decodebytes(\n",
    "            bytes(response_body[\"images\"][0], \"utf-8\")\n",
    "        )\n",
    "    )\n",
    ")\n",
    "\n",
    "img.show()"
   ]
  },
  {
   "cell_type": "markdown",
   "id": "bd098937-5938-4199-9ac1-0793eb26219a",
   "metadata": {},
   "source": [
    "### Image conditioning"
   ]
  },
  {
   "cell_type": "markdown",
   "id": "f7d48c7e-f527-45f5-b74b-97706006ae6a",
   "metadata": {},
   "source": [
    "Uses an input reference image to guide image generation. The model generates output image that aligns with the layout and the composition of the reference image, while still following the textual prompt."
   ]
  },
  {
   "cell_type": "code",
   "execution_count": null,
   "id": "1b3820c1-eb22-409b-995d-f8231755f03c",
   "metadata": {},
   "outputs": [],
   "source": [
    "generation_text = \"\"\"A dynamic image of a group of young female soccer players celebrating a goal on a vibrant green field. The players are \n",
    "diverse in appearance, showcasing unity and inclusivity. The background features an energetic crowd and a setting sun, adding to the excitement \n",
    "and passion of the game.\"\"\""
   ]
  },
  {
   "cell_type": "code",
   "execution_count": null,
   "id": "78e84e56-05a0-4fcb-be9f-8982700d1adc",
   "metadata": {},
   "outputs": [],
   "source": [
    "# Create payload\n",
    "body = json.dumps(\n",
    "    {\n",
    "        \"taskType\": \"TEXT_IMAGE\",\n",
    "        \"textToImageParams\": {\n",
    "            \"conditionImage\": base64_image,\n",
    "            \"controlMode\": \"SEGMENTATION\", \n",
    "            \"controlStrength\": 0.5,\n",
    "            \"text\": generation_text,\n",
    "        },\n",
    "        \"imageGenerationConfig\": {\n",
    "            \"numberOfImages\": 1,   # Range: 1 to 5 \n",
    "            \"quality\": \"standard\",  # Options: standard or premium\n",
    "            \"height\": 720,        # Supported height list in the docs \n",
    "            \"width\": 1280,         # Supported width list in the docs\n",
    "            \"cfgScale\": 7.5,       # Range: 1.0 (exclusive) to 10.0\n",
    "            \"seed\": random_seed             # Range: 0 to 214783647\n",
    "        }\n",
    "    }\n",
    ")\n",
    "\n",
    "# Make model request\n",
    "start_time = time.time()\n",
    "response = bedrock_runtime.invoke_model(\n",
    "    body=body,\n",
    "    modelId=\"amazon.nova-canvas-v1:0\",\n",
    "    accept=\"application/json\",\n",
    "    contentType=\"application/json\"\n",
    ")\n",
    "time_canvas = time.time() - start_time\n",
    "\n",
    "# Process the image\n",
    "response_body = json.loads(response.get(\"body\").read())\n",
    "\n",
    "print(f\"Image conditioning latency: {time_canvas}\")"
   ]
  },
  {
   "cell_type": "code",
   "execution_count": null,
   "id": "3b5665fc-06b8-487a-ae32-511bdb55e520",
   "metadata": {},
   "outputs": [],
   "source": [
    "img = Image.open(\n",
    "    io.BytesIO(\n",
    "        base64.decodebytes(\n",
    "            bytes(response_body[\"images\"][0], \"utf-8\")\n",
    "        )\n",
    "    )\n",
    ")\n",
    "\n",
    "img.show()"
   ]
  }
 ],
 "metadata": {
  "availableInstances": [
   {
    "_defaultOrder": 0,
    "_isFastLaunch": true,
    "category": "General purpose",
    "gpuNum": 0,
    "hideHardwareSpecs": false,
    "memoryGiB": 4,
    "name": "ml.t3.medium",
    "vcpuNum": 2
   },
   {
    "_defaultOrder": 1,
    "_isFastLaunch": false,
    "category": "General purpose",
    "gpuNum": 0,
    "hideHardwareSpecs": false,
    "memoryGiB": 8,
    "name": "ml.t3.large",
    "vcpuNum": 2
   },
   {
    "_defaultOrder": 2,
    "_isFastLaunch": false,
    "category": "General purpose",
    "gpuNum": 0,
    "hideHardwareSpecs": false,
    "memoryGiB": 16,
    "name": "ml.t3.xlarge",
    "vcpuNum": 4
   },
   {
    "_defaultOrder": 3,
    "_isFastLaunch": false,
    "category": "General purpose",
    "gpuNum": 0,
    "hideHardwareSpecs": false,
    "memoryGiB": 32,
    "name": "ml.t3.2xlarge",
    "vcpuNum": 8
   },
   {
    "_defaultOrder": 4,
    "_isFastLaunch": true,
    "category": "General purpose",
    "gpuNum": 0,
    "hideHardwareSpecs": false,
    "memoryGiB": 8,
    "name": "ml.m5.large",
    "vcpuNum": 2
   },
   {
    "_defaultOrder": 5,
    "_isFastLaunch": false,
    "category": "General purpose",
    "gpuNum": 0,
    "hideHardwareSpecs": false,
    "memoryGiB": 16,
    "name": "ml.m5.xlarge",
    "vcpuNum": 4
   },
   {
    "_defaultOrder": 6,
    "_isFastLaunch": false,
    "category": "General purpose",
    "gpuNum": 0,
    "hideHardwareSpecs": false,
    "memoryGiB": 32,
    "name": "ml.m5.2xlarge",
    "vcpuNum": 8
   },
   {
    "_defaultOrder": 7,
    "_isFastLaunch": false,
    "category": "General purpose",
    "gpuNum": 0,
    "hideHardwareSpecs": false,
    "memoryGiB": 64,
    "name": "ml.m5.4xlarge",
    "vcpuNum": 16
   },
   {
    "_defaultOrder": 8,
    "_isFastLaunch": false,
    "category": "General purpose",
    "gpuNum": 0,
    "hideHardwareSpecs": false,
    "memoryGiB": 128,
    "name": "ml.m5.8xlarge",
    "vcpuNum": 32
   },
   {
    "_defaultOrder": 9,
    "_isFastLaunch": false,
    "category": "General purpose",
    "gpuNum": 0,
    "hideHardwareSpecs": false,
    "memoryGiB": 192,
    "name": "ml.m5.12xlarge",
    "vcpuNum": 48
   },
   {
    "_defaultOrder": 10,
    "_isFastLaunch": false,
    "category": "General purpose",
    "gpuNum": 0,
    "hideHardwareSpecs": false,
    "memoryGiB": 256,
    "name": "ml.m5.16xlarge",
    "vcpuNum": 64
   },
   {
    "_defaultOrder": 11,
    "_isFastLaunch": false,
    "category": "General purpose",
    "gpuNum": 0,
    "hideHardwareSpecs": false,
    "memoryGiB": 384,
    "name": "ml.m5.24xlarge",
    "vcpuNum": 96
   },
   {
    "_defaultOrder": 12,
    "_isFastLaunch": false,
    "category": "General purpose",
    "gpuNum": 0,
    "hideHardwareSpecs": false,
    "memoryGiB": 8,
    "name": "ml.m5d.large",
    "vcpuNum": 2
   },
   {
    "_defaultOrder": 13,
    "_isFastLaunch": false,
    "category": "General purpose",
    "gpuNum": 0,
    "hideHardwareSpecs": false,
    "memoryGiB": 16,
    "name": "ml.m5d.xlarge",
    "vcpuNum": 4
   },
   {
    "_defaultOrder": 14,
    "_isFastLaunch": false,
    "category": "General purpose",
    "gpuNum": 0,
    "hideHardwareSpecs": false,
    "memoryGiB": 32,
    "name": "ml.m5d.2xlarge",
    "vcpuNum": 8
   },
   {
    "_defaultOrder": 15,
    "_isFastLaunch": false,
    "category": "General purpose",
    "gpuNum": 0,
    "hideHardwareSpecs": false,
    "memoryGiB": 64,
    "name": "ml.m5d.4xlarge",
    "vcpuNum": 16
   },
   {
    "_defaultOrder": 16,
    "_isFastLaunch": false,
    "category": "General purpose",
    "gpuNum": 0,
    "hideHardwareSpecs": false,
    "memoryGiB": 128,
    "name": "ml.m5d.8xlarge",
    "vcpuNum": 32
   },
   {
    "_defaultOrder": 17,
    "_isFastLaunch": false,
    "category": "General purpose",
    "gpuNum": 0,
    "hideHardwareSpecs": false,
    "memoryGiB": 192,
    "name": "ml.m5d.12xlarge",
    "vcpuNum": 48
   },
   {
    "_defaultOrder": 18,
    "_isFastLaunch": false,
    "category": "General purpose",
    "gpuNum": 0,
    "hideHardwareSpecs": false,
    "memoryGiB": 256,
    "name": "ml.m5d.16xlarge",
    "vcpuNum": 64
   },
   {
    "_defaultOrder": 19,
    "_isFastLaunch": false,
    "category": "General purpose",
    "gpuNum": 0,
    "hideHardwareSpecs": false,
    "memoryGiB": 384,
    "name": "ml.m5d.24xlarge",
    "vcpuNum": 96
   },
   {
    "_defaultOrder": 20,
    "_isFastLaunch": false,
    "category": "General purpose",
    "gpuNum": 0,
    "hideHardwareSpecs": true,
    "memoryGiB": 0,
    "name": "ml.geospatial.interactive",
    "supportedImageNames": [
     "sagemaker-geospatial-v1-0"
    ],
    "vcpuNum": 0
   },
   {
    "_defaultOrder": 21,
    "_isFastLaunch": true,
    "category": "Compute optimized",
    "gpuNum": 0,
    "hideHardwareSpecs": false,
    "memoryGiB": 4,
    "name": "ml.c5.large",
    "vcpuNum": 2
   },
   {
    "_defaultOrder": 22,
    "_isFastLaunch": false,
    "category": "Compute optimized",
    "gpuNum": 0,
    "hideHardwareSpecs": false,
    "memoryGiB": 8,
    "name": "ml.c5.xlarge",
    "vcpuNum": 4
   },
   {
    "_defaultOrder": 23,
    "_isFastLaunch": false,
    "category": "Compute optimized",
    "gpuNum": 0,
    "hideHardwareSpecs": false,
    "memoryGiB": 16,
    "name": "ml.c5.2xlarge",
    "vcpuNum": 8
   },
   {
    "_defaultOrder": 24,
    "_isFastLaunch": false,
    "category": "Compute optimized",
    "gpuNum": 0,
    "hideHardwareSpecs": false,
    "memoryGiB": 32,
    "name": "ml.c5.4xlarge",
    "vcpuNum": 16
   },
   {
    "_defaultOrder": 25,
    "_isFastLaunch": false,
    "category": "Compute optimized",
    "gpuNum": 0,
    "hideHardwareSpecs": false,
    "memoryGiB": 72,
    "name": "ml.c5.9xlarge",
    "vcpuNum": 36
   },
   {
    "_defaultOrder": 26,
    "_isFastLaunch": false,
    "category": "Compute optimized",
    "gpuNum": 0,
    "hideHardwareSpecs": false,
    "memoryGiB": 96,
    "name": "ml.c5.12xlarge",
    "vcpuNum": 48
   },
   {
    "_defaultOrder": 27,
    "_isFastLaunch": false,
    "category": "Compute optimized",
    "gpuNum": 0,
    "hideHardwareSpecs": false,
    "memoryGiB": 144,
    "name": "ml.c5.18xlarge",
    "vcpuNum": 72
   },
   {
    "_defaultOrder": 28,
    "_isFastLaunch": false,
    "category": "Compute optimized",
    "gpuNum": 0,
    "hideHardwareSpecs": false,
    "memoryGiB": 192,
    "name": "ml.c5.24xlarge",
    "vcpuNum": 96
   },
   {
    "_defaultOrder": 29,
    "_isFastLaunch": true,
    "category": "Accelerated computing",
    "gpuNum": 1,
    "hideHardwareSpecs": false,
    "memoryGiB": 16,
    "name": "ml.g4dn.xlarge",
    "vcpuNum": 4
   },
   {
    "_defaultOrder": 30,
    "_isFastLaunch": false,
    "category": "Accelerated computing",
    "gpuNum": 1,
    "hideHardwareSpecs": false,
    "memoryGiB": 32,
    "name": "ml.g4dn.2xlarge",
    "vcpuNum": 8
   },
   {
    "_defaultOrder": 31,
    "_isFastLaunch": false,
    "category": "Accelerated computing",
    "gpuNum": 1,
    "hideHardwareSpecs": false,
    "memoryGiB": 64,
    "name": "ml.g4dn.4xlarge",
    "vcpuNum": 16
   },
   {
    "_defaultOrder": 32,
    "_isFastLaunch": false,
    "category": "Accelerated computing",
    "gpuNum": 1,
    "hideHardwareSpecs": false,
    "memoryGiB": 128,
    "name": "ml.g4dn.8xlarge",
    "vcpuNum": 32
   },
   {
    "_defaultOrder": 33,
    "_isFastLaunch": false,
    "category": "Accelerated computing",
    "gpuNum": 4,
    "hideHardwareSpecs": false,
    "memoryGiB": 192,
    "name": "ml.g4dn.12xlarge",
    "vcpuNum": 48
   },
   {
    "_defaultOrder": 34,
    "_isFastLaunch": false,
    "category": "Accelerated computing",
    "gpuNum": 1,
    "hideHardwareSpecs": false,
    "memoryGiB": 256,
    "name": "ml.g4dn.16xlarge",
    "vcpuNum": 64
   },
   {
    "_defaultOrder": 35,
    "_isFastLaunch": false,
    "category": "Accelerated computing",
    "gpuNum": 1,
    "hideHardwareSpecs": false,
    "memoryGiB": 61,
    "name": "ml.p3.2xlarge",
    "vcpuNum": 8
   },
   {
    "_defaultOrder": 36,
    "_isFastLaunch": false,
    "category": "Accelerated computing",
    "gpuNum": 4,
    "hideHardwareSpecs": false,
    "memoryGiB": 244,
    "name": "ml.p3.8xlarge",
    "vcpuNum": 32
   },
   {
    "_defaultOrder": 37,
    "_isFastLaunch": false,
    "category": "Accelerated computing",
    "gpuNum": 8,
    "hideHardwareSpecs": false,
    "memoryGiB": 488,
    "name": "ml.p3.16xlarge",
    "vcpuNum": 64
   },
   {
    "_defaultOrder": 38,
    "_isFastLaunch": false,
    "category": "Accelerated computing",
    "gpuNum": 8,
    "hideHardwareSpecs": false,
    "memoryGiB": 768,
    "name": "ml.p3dn.24xlarge",
    "vcpuNum": 96
   },
   {
    "_defaultOrder": 39,
    "_isFastLaunch": false,
    "category": "Memory Optimized",
    "gpuNum": 0,
    "hideHardwareSpecs": false,
    "memoryGiB": 16,
    "name": "ml.r5.large",
    "vcpuNum": 2
   },
   {
    "_defaultOrder": 40,
    "_isFastLaunch": false,
    "category": "Memory Optimized",
    "gpuNum": 0,
    "hideHardwareSpecs": false,
    "memoryGiB": 32,
    "name": "ml.r5.xlarge",
    "vcpuNum": 4
   },
   {
    "_defaultOrder": 41,
    "_isFastLaunch": false,
    "category": "Memory Optimized",
    "gpuNum": 0,
    "hideHardwareSpecs": false,
    "memoryGiB": 64,
    "name": "ml.r5.2xlarge",
    "vcpuNum": 8
   },
   {
    "_defaultOrder": 42,
    "_isFastLaunch": false,
    "category": "Memory Optimized",
    "gpuNum": 0,
    "hideHardwareSpecs": false,
    "memoryGiB": 128,
    "name": "ml.r5.4xlarge",
    "vcpuNum": 16
   },
   {
    "_defaultOrder": 43,
    "_isFastLaunch": false,
    "category": "Memory Optimized",
    "gpuNum": 0,
    "hideHardwareSpecs": false,
    "memoryGiB": 256,
    "name": "ml.r5.8xlarge",
    "vcpuNum": 32
   },
   {
    "_defaultOrder": 44,
    "_isFastLaunch": false,
    "category": "Memory Optimized",
    "gpuNum": 0,
    "hideHardwareSpecs": false,
    "memoryGiB": 384,
    "name": "ml.r5.12xlarge",
    "vcpuNum": 48
   },
   {
    "_defaultOrder": 45,
    "_isFastLaunch": false,
    "category": "Memory Optimized",
    "gpuNum": 0,
    "hideHardwareSpecs": false,
    "memoryGiB": 512,
    "name": "ml.r5.16xlarge",
    "vcpuNum": 64
   },
   {
    "_defaultOrder": 46,
    "_isFastLaunch": false,
    "category": "Memory Optimized",
    "gpuNum": 0,
    "hideHardwareSpecs": false,
    "memoryGiB": 768,
    "name": "ml.r5.24xlarge",
    "vcpuNum": 96
   },
   {
    "_defaultOrder": 47,
    "_isFastLaunch": false,
    "category": "Accelerated computing",
    "gpuNum": 1,
    "hideHardwareSpecs": false,
    "memoryGiB": 16,
    "name": "ml.g5.xlarge",
    "vcpuNum": 4
   },
   {
    "_defaultOrder": 48,
    "_isFastLaunch": false,
    "category": "Accelerated computing",
    "gpuNum": 1,
    "hideHardwareSpecs": false,
    "memoryGiB": 32,
    "name": "ml.g5.2xlarge",
    "vcpuNum": 8
   },
   {
    "_defaultOrder": 49,
    "_isFastLaunch": false,
    "category": "Accelerated computing",
    "gpuNum": 1,
    "hideHardwareSpecs": false,
    "memoryGiB": 64,
    "name": "ml.g5.4xlarge",
    "vcpuNum": 16
   },
   {
    "_defaultOrder": 50,
    "_isFastLaunch": false,
    "category": "Accelerated computing",
    "gpuNum": 1,
    "hideHardwareSpecs": false,
    "memoryGiB": 128,
    "name": "ml.g5.8xlarge",
    "vcpuNum": 32
   },
   {
    "_defaultOrder": 51,
    "_isFastLaunch": false,
    "category": "Accelerated computing",
    "gpuNum": 1,
    "hideHardwareSpecs": false,
    "memoryGiB": 256,
    "name": "ml.g5.16xlarge",
    "vcpuNum": 64
   },
   {
    "_defaultOrder": 52,
    "_isFastLaunch": false,
    "category": "Accelerated computing",
    "gpuNum": 4,
    "hideHardwareSpecs": false,
    "memoryGiB": 192,
    "name": "ml.g5.12xlarge",
    "vcpuNum": 48
   },
   {
    "_defaultOrder": 53,
    "_isFastLaunch": false,
    "category": "Accelerated computing",
    "gpuNum": 4,
    "hideHardwareSpecs": false,
    "memoryGiB": 384,
    "name": "ml.g5.24xlarge",
    "vcpuNum": 96
   },
   {
    "_defaultOrder": 54,
    "_isFastLaunch": false,
    "category": "Accelerated computing",
    "gpuNum": 8,
    "hideHardwareSpecs": false,
    "memoryGiB": 768,
    "name": "ml.g5.48xlarge",
    "vcpuNum": 192
   },
   {
    "_defaultOrder": 55,
    "_isFastLaunch": false,
    "category": "Accelerated computing",
    "gpuNum": 8,
    "hideHardwareSpecs": false,
    "memoryGiB": 1152,
    "name": "ml.p4d.24xlarge",
    "vcpuNum": 96
   },
   {
    "_defaultOrder": 56,
    "_isFastLaunch": false,
    "category": "Accelerated computing",
    "gpuNum": 8,
    "hideHardwareSpecs": false,
    "memoryGiB": 1152,
    "name": "ml.p4de.24xlarge",
    "vcpuNum": 96
   },
   {
    "_defaultOrder": 57,
    "_isFastLaunch": false,
    "category": "Accelerated computing",
    "gpuNum": 0,
    "hideHardwareSpecs": false,
    "memoryGiB": 32,
    "name": "ml.trn1.2xlarge",
    "vcpuNum": 8
   },
   {
    "_defaultOrder": 58,
    "_isFastLaunch": false,
    "category": "Accelerated computing",
    "gpuNum": 0,
    "hideHardwareSpecs": false,
    "memoryGiB": 512,
    "name": "ml.trn1.32xlarge",
    "vcpuNum": 128
   },
   {
    "_defaultOrder": 59,
    "_isFastLaunch": false,
    "category": "Accelerated computing",
    "gpuNum": 0,
    "hideHardwareSpecs": false,
    "memoryGiB": 512,
    "name": "ml.trn1n.32xlarge",
    "vcpuNum": 128
   }
  ],
  "instance_type": "ml.t3.medium",
  "kernelspec": {
   "display_name": "Python 3 (ipykernel)",
   "language": "python",
   "name": "python3"
  },
  "language_info": {
   "codemirror_mode": {
    "name": "ipython",
    "version": 3
   },
   "file_extension": ".py",
   "mimetype": "text/x-python",
   "name": "python",
   "nbconvert_exporter": "python",
   "pygments_lexer": "ipython3",
   "version": "3.11.11"
  }
 },
 "nbformat": 4,
 "nbformat_minor": 5
}
